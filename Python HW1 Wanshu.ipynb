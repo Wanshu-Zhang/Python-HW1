{
 "cells": [
  {
   "cell_type": "code",
   "execution_count": 4,
   "id": "656acafd",
   "metadata": {},
   "outputs": [],
   "source": [
    "import re\n",
    "import gensim\n",
    "import logging\n",
    "import nltk.data\n",
    "import pandas as pd\n",
    "import urllib.request\n",
    "from bs4 import BeautifulSoup\n",
    "from nltk.corpus import stopwords\n",
    "from gensim.models import word2vec\n",
    "\n",
    "import warnings\n",
    "warnings.filterwarnings('ignore')"
   ]
  },
  {
   "cell_type": "code",
   "execution_count": 5,
   "id": "f082d98d",
   "metadata": {},
   "outputs": [],
   "source": [
    "logging.basicConfig(format='%(asctime)s : %(levelname)s : %(message)s', level=logging.INFO)"
   ]
  },
  {
   "cell_type": "code",
   "execution_count": 6,
   "id": "b6e8e45b",
   "metadata": {},
   "outputs": [],
   "source": [
    "f ='zhivi-i-pomni-6.txt'\n",
    "data = gensim.models.word2vec.LineSentence(f)"
   ]
  },
  {
   "cell_type": "code",
   "execution_count": 58,
   "id": "567aacdd",
   "metadata": {},
   "outputs": [
    {
     "name": "stderr",
     "output_type": "stream",
     "text": [
      "2021-09-25 02:09:19,108 : INFO : collecting all words and their counts\n",
      "2021-09-25 02:09:19,109 : INFO : PROGRESS: at sentence #0, processed 0 words, keeping 0 word types\n",
      "2021-09-25 02:09:19,112 : INFO : collected 1688 word types from a corpus of 5343 raw words and 385 sentences\n",
      "2021-09-25 02:09:19,112 : INFO : Creating a fresh vocabulary\n",
      "2021-09-25 02:09:19,114 : INFO : Word2Vec lifecycle event {'msg': 'effective_min_count=2 retains 575 unique words (34.06398104265403%% of original 1688, drops 1113)', 'datetime': '2021-09-25T02:09:19.114396', 'gensim': '4.1.2', 'python': '3.9.7 (tags/v3.9.7:1016ef3, Aug 30 2021, 20:19:38) [MSC v.1929 64 bit (AMD64)]', 'platform': 'Windows-10-10.0.19043-SP0', 'event': 'prepare_vocab'}\n",
      "2021-09-25 02:09:19,115 : INFO : Word2Vec lifecycle event {'msg': 'effective_min_count=2 leaves 4230 word corpus (79.16900617630544%% of original 5343, drops 1113)', 'datetime': '2021-09-25T02:09:19.115393', 'gensim': '4.1.2', 'python': '3.9.7 (tags/v3.9.7:1016ef3, Aug 30 2021, 20:19:38) [MSC v.1929 64 bit (AMD64)]', 'platform': 'Windows-10-10.0.19043-SP0', 'event': 'prepare_vocab'}\n",
      "2021-09-25 02:09:19,118 : INFO : deleting the raw counts dictionary of 1688 items\n",
      "2021-09-25 02:09:19,119 : INFO : sample=0.001 downsamples 73 most-common words\n",
      "2021-09-25 02:09:19,119 : INFO : Word2Vec lifecycle event {'msg': 'downsampling leaves estimated 2888.134993852409 word corpus (68.3%% of prior 4230)', 'datetime': '2021-09-25T02:09:19.119382', 'gensim': '4.1.2', 'python': '3.9.7 (tags/v3.9.7:1016ef3, Aug 30 2021, 20:19:38) [MSC v.1929 64 bit (AMD64)]', 'platform': 'Windows-10-10.0.19043-SP0', 'event': 'prepare_vocab'}\n",
      "2021-09-25 02:09:19,124 : INFO : estimated required memory for 575 words and 300 dimensions: 1667500 bytes\n",
      "2021-09-25 02:09:19,124 : INFO : resetting layer weights\n",
      "2021-09-25 02:09:19,125 : INFO : Word2Vec lifecycle event {'update': False, 'trim_rule': 'None', 'datetime': '2021-09-25T02:09:19.125366', 'gensim': '4.1.2', 'python': '3.9.7 (tags/v3.9.7:1016ef3, Aug 30 2021, 20:19:38) [MSC v.1929 64 bit (AMD64)]', 'platform': 'Windows-10-10.0.19043-SP0', 'event': 'build_vocab'}\n",
      "2021-09-25 02:09:19,126 : INFO : Word2Vec lifecycle event {'msg': 'training model with 3 workers on 575 vocabulary and 300 features, using sg=0 hs=0 sample=0.001 negative=5 window=5 shrink_windows=True', 'datetime': '2021-09-25T02:09:19.126365', 'gensim': '4.1.2', 'python': '3.9.7 (tags/v3.9.7:1016ef3, Aug 30 2021, 20:19:38) [MSC v.1929 64 bit (AMD64)]', 'platform': 'Windows-10-10.0.19043-SP0', 'event': 'train'}\n",
      "2021-09-25 02:09:19,131 : INFO : worker thread finished; awaiting finish of 2 more threads\n",
      "2021-09-25 02:09:19,131 : INFO : worker thread finished; awaiting finish of 1 more threads\n",
      "2021-09-25 02:09:19,134 : INFO : worker thread finished; awaiting finish of 0 more threads\n",
      "2021-09-25 02:09:19,135 : INFO : EPOCH - 1 : training on 5343 raw words (2814 effective words) took 0.0s, 396427 effective words/s\n",
      "2021-09-25 02:09:19,139 : INFO : worker thread finished; awaiting finish of 2 more threads\n",
      "2021-09-25 02:09:19,139 : INFO : worker thread finished; awaiting finish of 1 more threads\n",
      "2021-09-25 02:09:19,142 : INFO : worker thread finished; awaiting finish of 0 more threads\n",
      "2021-09-25 02:09:19,143 : INFO : EPOCH - 2 : training on 5343 raw words (2904 effective words) took 0.0s, 453431 effective words/s\n",
      "2021-09-25 02:09:19,146 : INFO : worker thread finished; awaiting finish of 2 more threads\n",
      "2021-09-25 02:09:19,147 : INFO : worker thread finished; awaiting finish of 1 more threads\n",
      "2021-09-25 02:09:19,150 : INFO : worker thread finished; awaiting finish of 0 more threads\n",
      "2021-09-25 02:09:19,151 : INFO : EPOCH - 3 : training on 5343 raw words (2896 effective words) took 0.0s, 414265 effective words/s\n",
      "2021-09-25 02:09:19,155 : INFO : worker thread finished; awaiting finish of 2 more threads\n",
      "2021-09-25 02:09:19,156 : INFO : worker thread finished; awaiting finish of 1 more threads\n",
      "2021-09-25 02:09:19,159 : INFO : worker thread finished; awaiting finish of 0 more threads\n",
      "2021-09-25 02:09:19,160 : INFO : EPOCH - 4 : training on 5343 raw words (2881 effective words) took 0.0s, 377129 effective words/s\n",
      "2021-09-25 02:09:19,164 : INFO : worker thread finished; awaiting finish of 2 more threads\n",
      "2021-09-25 02:09:19,165 : INFO : worker thread finished; awaiting finish of 1 more threads\n",
      "2021-09-25 02:09:19,169 : INFO : worker thread finished; awaiting finish of 0 more threads\n",
      "2021-09-25 02:09:19,170 : INFO : EPOCH - 5 : training on 5343 raw words (2903 effective words) took 0.0s, 336369 effective words/s\n",
      "2021-09-25 02:09:19,171 : INFO : Word2Vec lifecycle event {'msg': 'training on 26715 raw words (14398 effective words) took 0.0s, 324456 effective words/s', 'datetime': '2021-09-25T02:09:19.171243', 'gensim': '4.1.2', 'python': '3.9.7 (tags/v3.9.7:1016ef3, Aug 30 2021, 20:19:38) [MSC v.1929 64 bit (AMD64)]', 'platform': 'Windows-10-10.0.19043-SP0', 'event': 'train'}\n",
      "2021-09-25 02:09:19,171 : INFO : Word2Vec lifecycle event {'params': 'Word2Vec(vocab=575, vector_size=300, alpha=0.025)', 'datetime': '2021-09-25T02:09:19.171243', 'gensim': '4.1.2', 'python': '3.9.7 (tags/v3.9.7:1016ef3, Aug 30 2021, 20:19:38) [MSC v.1929 64 bit (AMD64)]', 'platform': 'Windows-10-10.0.19043-SP0', 'event': 'created'}\n"
     ]
    },
    {
     "name": "stdout",
     "output_type": "stream",
     "text": [
      "Wall time: 63.8 ms\n"
     ]
    }
   ],
   "source": [
    "%time model_zhivi = gensim.models.Word2Vec(data, vector_size=300, window=5, min_count=2, epochs=5)"
   ]
  },
  {
   "cell_type": "code",
   "execution_count": 59,
   "id": "23906b18",
   "metadata": {},
   "outputs": [
    {
     "name": "stderr",
     "output_type": "stream",
     "text": [
      "2021-09-25 02:09:26,899 : WARNING : destructive init_sims(replace=True) deprecated & no longer required for space-efficiency\n",
      "2021-09-25 02:09:26,900 : INFO : storing 575x300 projection weights into zhivi.bin\n"
     ]
    },
    {
     "name": "stdout",
     "output_type": "stream",
     "text": [
      "Saving model...\n"
     ]
    }
   ],
   "source": [
    "model_zhivi.init_sims(replace=True)\n",
    "model_path = \"zhivi.bin\"\n",
    "\n",
    "print(\"Saving model...\")\n",
    "model_zhivi.wv.save_word2vec_format(model_path, binary=True)"
   ]
  },
  {
   "cell_type": "code",
   "execution_count": 60,
   "id": "59f72a0a",
   "metadata": {},
   "outputs": [
    {
     "name": "stdout",
     "output_type": "stream",
     "text": [
      "575\n"
     ]
    }
   ],
   "source": [
    "print(len(model_zhivi.wv.key_to_index))"
   ]
  },
  {
   "cell_type": "code",
   "execution_count": 61,
   "id": "0bdfd32e",
   "metadata": {},
   "outputs": [
    {
     "name": "stdout",
     "output_type": "stream",
     "text": [
      "['а', 'ангар', 'ангара', 'андрей', 'атамановка', 'атамановский', 'баба', 'баня', 'без', 'белье', 'берег', 'бессильно', 'близко', 'близость', 'бок', 'более', 'боль', 'больно', 'больше', 'большой', 'бояться', 'будто', 'бурдак', 'бы', 'быстро', 'быть', 'в', 'вверх', 'вдруг', 'везти', 'вернуться', 'весь', 'вечер', 'вечный', 'взять', 'взяться', 'вид', 'видеть', 'видно', 'видный', 'вниз', 'во', 'вода', 'воевать', 'воздух', 'возле', 'война', 'ворчать', 'воспоминание', 'вот', 'вперед', 'время', 'все', 'всегда', 'вспомнить', 'встреча', 'встречаться', 'всякий', 'входить', 'выживать', 'выпадать', 'высыпаться', 'выходить', 'где', 'герой', 'глаз', 'глухой', 'говорить', 'год', 'голова', 'голос', 'горький', 'горючее', 'госпиталь', 'господи', 'гуськов', 'да', 'давать', 'давно', 'даже', 'далеко', 'два', 'дверка', 'дверь', 'двор', 'девчонка', 'делать', 'дело', 'день', 'деревня', 'дерево', 'держать', 'держаться', 'десяток', 'детство', 'для', 'до', 'добираться', 'добрый', 'догадываться', 'дождаться', 'долго', 'должный', 'дом', 'домой', 'донимать', 'дорога', 'дорожка', 'доставать', 'дрова', 'друг', 'другой', 'думать', 'душа', 'дышать', 'его', 'едва', 'единственный', 'ее', 'если', 'ехать', 'еще', 'жалеть', 'ждать', 'же', 'жена', 'жесткий', 'живой', 'жизнь', 'жить', 'за', 'забывать', 'забытье', 'завтра', 'заглядывать', 'задыхаться', 'зайти', 'заметно', 'замечать', 'замужество', 'занавешивать', 'заниматься', 'запоминать', 'заранее', 'заставлять', 'затем', 'зачем', 'звать', 'звон', 'звук', 'здесь', 'зима', 'злость', 'знакомый', 'знать', 'значит', 'и', 'идти', 'из', 'изба', 'известие', 'или', 'иметь', 'иркутск', 'искать', 'исчезать', 'к', 'каждый', 'казаться', 'как', 'какаято', 'какой', 'какойто', 'каменка', 'караулить', 'карда', 'катька', 'кинуться', 'коврига', 'когда', 'когдато', 'когонибудь', 'колхоз', 'колхозный', 'команда', 'комуто', 'конечно', 'коновалов', 'конченый', 'который', 'крещенский', 'кричать', 'крыша', 'кто', 'ктото', 'куда', 'лавка', 'лампа', 'ласка', 'левый', 'легко', 'лежать', 'лето', 'лечить', 'ли', 'лихо', 'лицо', 'лишь', 'лыжа', 'любой', 'маленький', 'мало', 'мать', 'местный', 'место', 'месяц', 'милиционер', 'мимо', 'михеич', 'многий', 'много', 'молодой', 'молчать', 'мороз', 'мочь', 'муж', 'мужик', 'мы', 'мысль', 'мыться', 'на', 'наверно', 'над', 'надежда', 'надеяться', 'надо', 'надька', 'назад', 'название', 'наконец', 'настена', 'настолько', 'наступать', 'натягивать', 'научаться', 'находить', 'начинать', 'не', 'невестка', 'невозможный', 'невольно', 'неделя', 'неизвестно', 'нельзя', 'немножко', 'неожиданно', 'неприличный', 'несчастный', 'нет', 'нетерпение', 'нечего', 'неясный', 'ни', 'нижний', 'никто', 'ничто', 'но', 'новосибирск', 'новый', 'нога', 'ночь', 'ну', 'о', 'обещание', 'обида', 'обиженно', 'обмирать', 'оборотень', 'обратно', 'обратный', 'обрывать', 'обходиться', 'обычно', 'оглядываться', 'огород', 'один', 'однажды', 'оказываться', 'оконце', 'окошечко', 'он', 'она', 'они', 'оно', 'опять', 'осень', 'оставаться', 'оставлять', 'осторожно', 'от', 'отвечать', 'отец', 'открытый', 'откуда', 'отправлять', 'отпускать', 'отчаянный', 'оцепенение', 'память', 'пароход', 'первый', 'перед', 'письмо', 'плаха', 'плечо', 'плыть', 'по', 'повертывать', 'поворчать', 'повторять', 'поголосить', 'под', 'подвертываться', 'подниматься', 'подозревать', 'подымать', 'поздно', 'пойти', 'пока', 'показываться', 'покачать', 'пол', 'полка', 'полный', 'половина', 'половица', 'полушубок', 'помнить', 'помыться', 'понимать', 'понятно', 'попадать', 'попрежнему', 'попрекать', 'пора', 'порожек', 'посидеть', 'после', 'последний', 'послезавтра', 'посматривать', 'постель', 'постепенно', 'потеряться', 'потом', 'потому', 'потянуть', 'походить', 'похоже', 'похоронить', 'почему', 'почемуто', 'почти', 'появляться', 'правда', 'правый', 'предлагать', 'предстоять', 'при', 'прибирать', 'прийти', 'принимать', 'приниматься', 'приносить', 'прихватывать', 'приходить', 'приходиться', 'причина', 'про', 'проверять', 'продолжать', 'проживать', 'произведение', 'происходить', 'пропадать', 'пропажа', 'просто', 'против', 'проходить', 'прочитывать', 'прощаться', 'пугать', 'пуля', 'путь', 'пять', 'работа', 'работница', 'рад', 'ради', 'раз', 'разве', 'разговор', 'раздеваться', 'раздумье', 'район', 'ранить', 'рано', 'распутин', 'ребенок', 'ребятишки', 'решать', 'родной', 'ружье', 'рука', 'рыбный', 'рядом', 'с', 'сам', 'самый', 'сваливаться', 'свежий', 'свекор', 'свекровь', 'свет', 'свой', 'свыкаться', 'сговариваться', 'сделать', 'себя', 'сегодня', 'сейчас', 'сельсовет', 'семеновна', 'семья', 'сердце', 'сидеть', 'сила', 'сильно', 'сильный', 'сказать', 'скользить', 'сколько', 'скрываться', 'слабый', 'следовать', 'следующий', 'слеза', 'словно', 'слово', 'слух', 'случай', 'случайный', 'слышать', 'смерть', 'смотреть', 'смочь', 'снег', 'снова', 'со', 'собака', 'собирать', 'собираться', 'совсем', 'соглашаться', 'солома', 'сон', 'соображать', 'сообщать', 'сорок', 'спать', 'спина', 'спокойно', 'спрашивать', 'спускаться', 'спустя', 'сразу', 'среди', 'срываться', 'становиться', 'старик', 'старый', 'столько', 'сторона', 'стоять', 'страх', 'страшный', 'ступать', 'судьба', 'существовать', 'схватывать', 'счастие', 'сюда', 'тайник', 'так', 'такой', 'там', 'тело', 'темнота', 'теперь', 'терпеть', 'тетка', 'тихонько', 'то', 'тогда', 'тоже', 'только', 'топор', 'торопиться', 'торчать', 'тот', 'точно', 'третий', 'три', 'тридцать', 'труба', 'трудно', 'туда', 'тут', 'ты', 'тяжелый', 'у', 'убивать', 'убирать', 'увидеть', 'угол', 'удерживать', 'удивление', 'уезжать', 'уж', 'уже', 'узнавать', 'упасть', 'успевать', 'устраивать', 'утро', 'уходить', 'фигура', 'фронт', 'хвататься', 'хлеб', 'ходить', 'ходок', 'хозяйство', 'холодный', 'хорошо', 'хотеть', 'хоть', 'целить', 'чан', 'час', 'часто', 'человек', 'чем', 'через', 'черный', 'черт', 'четвертый', 'число', 'что', 'чтоб', 'чтобы', 'чтото', 'чувство', 'чувствовать', 'чудиться', 'чужой', 'чуть', 'шаг', 'шевельнуться', 'шлепать', 'шумно', 'это', 'этот', 'я', 'ясный']\n"
     ]
    }
   ],
   "source": [
    "print(sorted([w for w in model_zhivi.wv.key_to_index]))"
   ]
  },
  {
   "cell_type": "code",
   "execution_count": 62,
   "id": "3b1cc221",
   "metadata": {},
   "outputs": [
    {
     "data": {
      "text/plain": [
       "[('в', 0.4042279124259949),\n",
       " ('ангара', 0.39697664976119995),\n",
       " ('как', 0.396101176738739)]"
      ]
     },
     "execution_count": 62,
     "metadata": {},
     "output_type": "execute_result"
    }
   ],
   "source": [
    "model_zhivi.wv.most_similar(positive=[\"смерть\", \"страшный\"], negative=[\"живой\"], topn=3)"
   ]
  },
  {
   "cell_type": "code",
   "execution_count": 63,
   "id": "d282dddd",
   "metadata": {},
   "outputs": [
    {
     "data": {
      "text/plain": [
       "[('хотеть', 0.21144670248031616),\n",
       " ('близость', 0.20804202556610107),\n",
       " ('кто', 0.20143777132034302)]"
      ]
     },
     "execution_count": 63,
     "metadata": {},
     "output_type": "execute_result"
    }
   ],
   "source": [
    "model_zhivi.wv.most_similar(\"живой\", topn=3)"
   ]
  },
  {
   "cell_type": "code",
   "execution_count": 64,
   "id": "5a79389d",
   "metadata": {},
   "outputs": [
    {
     "data": {
      "text/plain": [
       "0.30923486"
      ]
     },
     "execution_count": 64,
     "metadata": {},
     "output_type": "execute_result"
    }
   ],
   "source": [
    "model_zhivi.wv.similarity(\"снег\", \"вода\")"
   ]
  },
  {
   "cell_type": "code",
   "execution_count": 47,
   "id": "ee6dcc3b",
   "metadata": {},
   "outputs": [
    {
     "data": {
      "text/plain": [
       "1.0"
      ]
     },
     "execution_count": 47,
     "metadata": {},
     "output_type": "execute_result"
    }
   ],
   "source": [
    "model_zhivi.wv.similarity(\"снег\", \"снег\")"
   ]
  },
  {
   "cell_type": "code",
   "execution_count": 48,
   "id": "1b4bce41",
   "metadata": {},
   "outputs": [
    {
     "name": "stderr",
     "output_type": "stream",
     "text": [
      "2021-09-25 01:58:02,435 : WARNING : vectors for words {'улыбка', 'скорбь', 'грусть'} are not present in the model, ignoring these words\n"
     ]
    },
    {
     "data": {
      "text/plain": [
       "'слеза'"
      ]
     },
     "execution_count": 48,
     "metadata": {},
     "output_type": "execute_result"
    }
   ],
   "source": [
    "model_zhivi.wv.doesnt_match(\"скорбь грусть слеза улыбка\".split())"
   ]
  },
  {
   "cell_type": "markdown",
   "id": "9323a2a6",
   "metadata": {},
   "source": [
    "We can increase the value of window to see what will happen to the result."
   ]
  },
  {
   "cell_type": "code",
   "execution_count": 100,
   "id": "0a90f15a",
   "metadata": {},
   "outputs": [
    {
     "name": "stderr",
     "output_type": "stream",
     "text": [
      "2021-09-25 03:10:42,568 : INFO : collecting all words and their counts\n",
      "2021-09-25 03:10:42,570 : INFO : PROGRESS: at sentence #0, processed 0 words, keeping 0 word types\n",
      "2021-09-25 03:10:42,572 : INFO : collected 1688 word types from a corpus of 5343 raw words and 385 sentences\n",
      "2021-09-25 03:10:42,573 : INFO : Creating a fresh vocabulary\n",
      "2021-09-25 03:10:42,575 : INFO : Word2Vec lifecycle event {'msg': 'effective_min_count=2 retains 575 unique words (34.06398104265403%% of original 1688, drops 1113)', 'datetime': '2021-09-25T03:10:42.575893', 'gensim': '4.1.2', 'python': '3.9.7 (tags/v3.9.7:1016ef3, Aug 30 2021, 20:19:38) [MSC v.1929 64 bit (AMD64)]', 'platform': 'Windows-10-10.0.19043-SP0', 'event': 'prepare_vocab'}\n",
      "2021-09-25 03:10:42,575 : INFO : Word2Vec lifecycle event {'msg': 'effective_min_count=2 leaves 4230 word corpus (79.16900617630544%% of original 5343, drops 1113)', 'datetime': '2021-09-25T03:10:42.575893', 'gensim': '4.1.2', 'python': '3.9.7 (tags/v3.9.7:1016ef3, Aug 30 2021, 20:19:38) [MSC v.1929 64 bit (AMD64)]', 'platform': 'Windows-10-10.0.19043-SP0', 'event': 'prepare_vocab'}\n",
      "2021-09-25 03:10:42,578 : INFO : deleting the raw counts dictionary of 1688 items\n",
      "2021-09-25 03:10:42,579 : INFO : sample=0.001 downsamples 73 most-common words\n",
      "2021-09-25 03:10:42,579 : INFO : Word2Vec lifecycle event {'msg': 'downsampling leaves estimated 2888.134993852409 word corpus (68.3%% of prior 4230)', 'datetime': '2021-09-25T03:10:42.579883', 'gensim': '4.1.2', 'python': '3.9.7 (tags/v3.9.7:1016ef3, Aug 30 2021, 20:19:38) [MSC v.1929 64 bit (AMD64)]', 'platform': 'Windows-10-10.0.19043-SP0', 'event': 'prepare_vocab'}\n",
      "2021-09-25 03:10:42,584 : INFO : estimated required memory for 575 words and 300 dimensions: 1667500 bytes\n",
      "2021-09-25 03:10:42,584 : INFO : resetting layer weights\n",
      "2021-09-25 03:10:42,585 : INFO : Word2Vec lifecycle event {'update': False, 'trim_rule': 'None', 'datetime': '2021-09-25T03:10:42.585866', 'gensim': '4.1.2', 'python': '3.9.7 (tags/v3.9.7:1016ef3, Aug 30 2021, 20:19:38) [MSC v.1929 64 bit (AMD64)]', 'platform': 'Windows-10-10.0.19043-SP0', 'event': 'build_vocab'}\n",
      "2021-09-25 03:10:42,586 : INFO : Word2Vec lifecycle event {'msg': 'training model with 3 workers on 575 vocabulary and 300 features, using sg=0 hs=0 sample=0.001 negative=5 window=10 shrink_windows=True', 'datetime': '2021-09-25T03:10:42.585866', 'gensim': '4.1.2', 'python': '3.9.7 (tags/v3.9.7:1016ef3, Aug 30 2021, 20:19:38) [MSC v.1929 64 bit (AMD64)]', 'platform': 'Windows-10-10.0.19043-SP0', 'event': 'train'}\n",
      "2021-09-25 03:10:42,589 : INFO : worker thread finished; awaiting finish of 2 more threads\n",
      "2021-09-25 03:10:42,590 : INFO : worker thread finished; awaiting finish of 1 more threads\n",
      "2021-09-25 03:10:42,594 : INFO : worker thread finished; awaiting finish of 0 more threads\n",
      "2021-09-25 03:10:42,594 : INFO : EPOCH - 1 : training on 5343 raw words (2814 effective words) took 0.0s, 396344 effective words/s\n",
      "2021-09-25 03:10:42,598 : INFO : worker thread finished; awaiting finish of 2 more threads\n",
      "2021-09-25 03:10:42,599 : INFO : worker thread finished; awaiting finish of 1 more threads\n",
      "2021-09-25 03:10:42,603 : INFO : worker thread finished; awaiting finish of 0 more threads\n",
      "2021-09-25 03:10:42,603 : INFO : EPOCH - 2 : training on 5343 raw words (2921 effective words) took 0.0s, 376728 effective words/s\n",
      "2021-09-25 03:10:42,608 : INFO : worker thread finished; awaiting finish of 2 more threads\n",
      "2021-09-25 03:10:42,608 : INFO : worker thread finished; awaiting finish of 1 more threads\n",
      "2021-09-25 03:10:42,612 : INFO : worker thread finished; awaiting finish of 0 more threads\n",
      "2021-09-25 03:10:42,612 : INFO : EPOCH - 3 : training on 5343 raw words (2914 effective words) took 0.0s, 413727 effective words/s\n",
      "2021-09-25 03:10:42,616 : INFO : worker thread finished; awaiting finish of 2 more threads\n",
      "2021-09-25 03:10:42,616 : INFO : worker thread finished; awaiting finish of 1 more threads\n",
      "2021-09-25 03:10:42,620 : INFO : worker thread finished; awaiting finish of 0 more threads\n",
      "2021-09-25 03:10:42,620 : INFO : EPOCH - 4 : training on 5343 raw words (2891 effective words) took 0.0s, 431422 effective words/s\n",
      "2021-09-25 03:10:42,624 : INFO : worker thread finished; awaiting finish of 2 more threads\n",
      "2021-09-25 03:10:42,625 : INFO : worker thread finished; awaiting finish of 1 more threads\n",
      "2021-09-25 03:10:42,628 : INFO : worker thread finished; awaiting finish of 0 more threads\n",
      "2021-09-25 03:10:42,629 : INFO : EPOCH - 5 : training on 5343 raw words (2858 effective words) took 0.0s, 390405 effective words/s\n",
      "2021-09-25 03:10:42,629 : INFO : Word2Vec lifecycle event {'msg': 'training on 26715 raw words (14398 effective words) took 0.0s, 334279 effective words/s', 'datetime': '2021-09-25T03:10:42.629750', 'gensim': '4.1.2', 'python': '3.9.7 (tags/v3.9.7:1016ef3, Aug 30 2021, 20:19:38) [MSC v.1929 64 bit (AMD64)]', 'platform': 'Windows-10-10.0.19043-SP0', 'event': 'train'}\n",
      "2021-09-25 03:10:42,629 : INFO : Word2Vec lifecycle event {'params': 'Word2Vec(vocab=575, vector_size=300, alpha=0.025)', 'datetime': '2021-09-25T03:10:42.629750', 'gensim': '4.1.2', 'python': '3.9.7 (tags/v3.9.7:1016ef3, Aug 30 2021, 20:19:38) [MSC v.1929 64 bit (AMD64)]', 'platform': 'Windows-10-10.0.19043-SP0', 'event': 'created'}\n"
     ]
    },
    {
     "name": "stdout",
     "output_type": "stream",
     "text": [
      "Wall time: 61.8 ms\n"
     ]
    }
   ],
   "source": [
    "%time model_zhivi = gensim.models.Word2Vec(data, vector_size=300, window=10, min_count=2, epochs=5)"
   ]
  },
  {
   "cell_type": "code",
   "execution_count": 101,
   "id": "c21a70db",
   "metadata": {},
   "outputs": [
    {
     "name": "stderr",
     "output_type": "stream",
     "text": [
      "2021-09-25 03:10:46,185 : WARNING : destructive init_sims(replace=True) deprecated & no longer required for space-efficiency\n",
      "2021-09-25 03:10:46,186 : INFO : storing 575x300 projection weights into zhivi.bin\n"
     ]
    },
    {
     "name": "stdout",
     "output_type": "stream",
     "text": [
      "Saving model...\n"
     ]
    }
   ],
   "source": [
    "model_zhivi.init_sims(replace=True)\n",
    "model_path = \"zhivi.bin\"\n",
    "\n",
    "print(\"Saving model...\")\n",
    "model_zhivi.wv.save_word2vec_format(model_path, binary=True)"
   ]
  },
  {
   "cell_type": "code",
   "execution_count": 103,
   "id": "2630a3f2",
   "metadata": {},
   "outputs": [
    {
     "data": {
      "text/plain": [
       "[('ангара', 0.6294587850570679),\n",
       " ('в', 0.6282918453216553),\n",
       " ('по', 0.625654935836792)]"
      ]
     },
     "execution_count": 103,
     "metadata": {},
     "output_type": "execute_result"
    }
   ],
   "source": [
    "model_zhivi.wv.most_similar(positive=[\"смерть\", \"страшный\"], negative=[\"живой\"], topn=3)"
   ]
  },
  {
   "cell_type": "code",
   "execution_count": 104,
   "id": "8ebf31a1",
   "metadata": {},
   "outputs": [
    {
     "data": {
      "text/plain": [
       "[('хотеть', 0.27827394008636475),\n",
       " ('близость', 0.2733249068260193),\n",
       " ('кто', 0.2708781361579895)]"
      ]
     },
     "execution_count": 104,
     "metadata": {},
     "output_type": "execute_result"
    }
   ],
   "source": [
    "model_zhivi.wv.most_similar(\"живой\", topn=3)"
   ]
  },
  {
   "cell_type": "code",
   "execution_count": 105,
   "id": "264e5d36",
   "metadata": {},
   "outputs": [
    {
     "data": {
      "text/plain": [
       "[('берег', 0.46046608686447144),\n",
       " ('бы', 0.45828545093536377),\n",
       " ('уже', 0.4543607831001282)]"
      ]
     },
     "execution_count": 105,
     "metadata": {},
     "output_type": "execute_result"
    }
   ],
   "source": [
    "model_zhivi.wv.most_similar(\"слеза\", topn=3)"
   ]
  },
  {
   "cell_type": "code",
   "execution_count": 106,
   "id": "532fb30e",
   "metadata": {},
   "outputs": [
    {
     "data": {
      "text/plain": [
       "0.5796386"
      ]
     },
     "execution_count": 106,
     "metadata": {},
     "output_type": "execute_result"
    }
   ],
   "source": [
    "model_zhivi.wv.similarity(\"снег\", \"вода\")"
   ]
  },
  {
   "cell_type": "markdown",
   "id": "ac90a900",
   "metadata": {},
   "source": [
    "The similarity increased."
   ]
  },
  {
   "cell_type": "code",
   "execution_count": 56,
   "id": "498eba2c",
   "metadata": {},
   "outputs": [
    {
     "name": "stderr",
     "output_type": "stream",
     "text": [
      "2021-09-25 02:08:18,194 : WARNING : vectors for words {'улыбка', 'скорбь', 'грусть'} are not present in the model, ignoring these words\n"
     ]
    },
    {
     "data": {
      "text/plain": [
       "'слеза'"
      ]
     },
     "execution_count": 56,
     "metadata": {},
     "output_type": "execute_result"
    }
   ],
   "source": [
    "model_zhivi.wv.doesnt_match(\"скорбь грусть слеза улыбка\".split())"
   ]
  },
  {
   "cell_type": "code",
   "execution_count": 110,
   "id": "6790dcc8",
   "metadata": {},
   "outputs": [
    {
     "name": "stderr",
     "output_type": "stream",
     "text": [
      "2021-09-25 03:16:12,449 : INFO : collecting all words and their counts\n",
      "2021-09-25 03:16:12,451 : INFO : PROGRESS: at sentence #0, processed 0 words, keeping 0 word types\n",
      "2021-09-25 03:16:12,455 : INFO : collected 1688 word types from a corpus of 5343 raw words and 385 sentences\n",
      "2021-09-25 03:16:12,455 : INFO : Creating a fresh vocabulary\n",
      "2021-09-25 03:16:12,457 : INFO : Word2Vec lifecycle event {'msg': 'effective_min_count=2 retains 575 unique words (34.06398104265403%% of original 1688, drops 1113)', 'datetime': '2021-09-25T03:16:12.457316', 'gensim': '4.1.2', 'python': '3.9.7 (tags/v3.9.7:1016ef3, Aug 30 2021, 20:19:38) [MSC v.1929 64 bit (AMD64)]', 'platform': 'Windows-10-10.0.19043-SP0', 'event': 'prepare_vocab'}\n",
      "2021-09-25 03:16:12,458 : INFO : Word2Vec lifecycle event {'msg': 'effective_min_count=2 leaves 4230 word corpus (79.16900617630544%% of original 5343, drops 1113)', 'datetime': '2021-09-25T03:16:12.458329', 'gensim': '4.1.2', 'python': '3.9.7 (tags/v3.9.7:1016ef3, Aug 30 2021, 20:19:38) [MSC v.1929 64 bit (AMD64)]', 'platform': 'Windows-10-10.0.19043-SP0', 'event': 'prepare_vocab'}\n",
      "2021-09-25 03:16:12,461 : INFO : deleting the raw counts dictionary of 1688 items\n",
      "2021-09-25 03:16:12,462 : INFO : sample=0.001 downsamples 73 most-common words\n",
      "2021-09-25 03:16:12,462 : INFO : Word2Vec lifecycle event {'msg': 'downsampling leaves estimated 2888.134993852409 word corpus (68.3%% of prior 4230)', 'datetime': '2021-09-25T03:16:12.462303', 'gensim': '4.1.2', 'python': '3.9.7 (tags/v3.9.7:1016ef3, Aug 30 2021, 20:19:38) [MSC v.1929 64 bit (AMD64)]', 'platform': 'Windows-10-10.0.19043-SP0', 'event': 'prepare_vocab'}\n",
      "2021-09-25 03:16:12,467 : INFO : estimated required memory for 575 words and 300 dimensions: 1667500 bytes\n",
      "2021-09-25 03:16:12,468 : INFO : resetting layer weights\n",
      "2021-09-25 03:16:12,469 : INFO : Word2Vec lifecycle event {'update': False, 'trim_rule': 'None', 'datetime': '2021-09-25T03:16:12.469284', 'gensim': '4.1.2', 'python': '3.9.7 (tags/v3.9.7:1016ef3, Aug 30 2021, 20:19:38) [MSC v.1929 64 bit (AMD64)]', 'platform': 'Windows-10-10.0.19043-SP0', 'event': 'build_vocab'}\n",
      "2021-09-25 03:16:12,470 : INFO : Word2Vec lifecycle event {'msg': 'training model with 3 workers on 575 vocabulary and 300 features, using sg=0 hs=0 sample=0.001 negative=5 window=2 shrink_windows=True', 'datetime': '2021-09-25T03:16:12.470281', 'gensim': '4.1.2', 'python': '3.9.7 (tags/v3.9.7:1016ef3, Aug 30 2021, 20:19:38) [MSC v.1929 64 bit (AMD64)]', 'platform': 'Windows-10-10.0.19043-SP0', 'event': 'train'}\n",
      "2021-09-25 03:16:12,474 : INFO : worker thread finished; awaiting finish of 2 more threads\n",
      "2021-09-25 03:16:12,475 : INFO : worker thread finished; awaiting finish of 1 more threads\n",
      "2021-09-25 03:16:12,478 : INFO : worker thread finished; awaiting finish of 0 more threads\n",
      "2021-09-25 03:16:12,479 : INFO : EPOCH - 1 : training on 5343 raw words (2814 effective words) took 0.0s, 387742 effective words/s\n",
      "2021-09-25 03:16:12,483 : INFO : worker thread finished; awaiting finish of 2 more threads\n",
      "2021-09-25 03:16:12,484 : INFO : worker thread finished; awaiting finish of 1 more threads\n",
      "2021-09-25 03:16:12,487 : INFO : worker thread finished; awaiting finish of 0 more threads\n",
      "2021-09-25 03:16:12,487 : INFO : EPOCH - 2 : training on 5343 raw words (2918 effective words) took 0.0s, 430530 effective words/s\n",
      "2021-09-25 03:16:12,492 : INFO : worker thread finished; awaiting finish of 2 more threads\n",
      "2021-09-25 03:16:12,492 : INFO : worker thread finished; awaiting finish of 1 more threads\n",
      "2021-09-25 03:16:12,495 : INFO : worker thread finished; awaiting finish of 0 more threads\n",
      "2021-09-25 03:16:12,495 : INFO : EPOCH - 3 : training on 5343 raw words (2891 effective words) took 0.0s, 440285 effective words/s\n",
      "2021-09-25 03:16:12,499 : INFO : worker thread finished; awaiting finish of 2 more threads\n",
      "2021-09-25 03:16:12,500 : INFO : worker thread finished; awaiting finish of 1 more threads\n",
      "2021-09-25 03:16:12,502 : INFO : worker thread finished; awaiting finish of 0 more threads\n",
      "2021-09-25 03:16:12,503 : INFO : EPOCH - 4 : training on 5343 raw words (2894 effective words) took 0.0s, 482333 effective words/s\n",
      "2021-09-25 03:16:12,507 : INFO : worker thread finished; awaiting finish of 2 more threads\n",
      "2021-09-25 03:16:12,508 : INFO : worker thread finished; awaiting finish of 1 more threads\n",
      "2021-09-25 03:16:12,510 : INFO : worker thread finished; awaiting finish of 0 more threads\n",
      "2021-09-25 03:16:12,511 : INFO : EPOCH - 5 : training on 5343 raw words (2885 effective words) took 0.0s, 449832 effective words/s\n",
      "2021-09-25 03:16:12,511 : INFO : Word2Vec lifecycle event {'msg': 'training on 26715 raw words (14402 effective words) took 0.0s, 352975 effective words/s', 'datetime': '2021-09-25T03:16:12.511172', 'gensim': '4.1.2', 'python': '3.9.7 (tags/v3.9.7:1016ef3, Aug 30 2021, 20:19:38) [MSC v.1929 64 bit (AMD64)]', 'platform': 'Windows-10-10.0.19043-SP0', 'event': 'train'}\n",
      "2021-09-25 03:16:12,511 : INFO : Word2Vec lifecycle event {'params': 'Word2Vec(vocab=575, vector_size=300, alpha=0.025)', 'datetime': '2021-09-25T03:16:12.511172', 'gensim': '4.1.2', 'python': '3.9.7 (tags/v3.9.7:1016ef3, Aug 30 2021, 20:19:38) [MSC v.1929 64 bit (AMD64)]', 'platform': 'Windows-10-10.0.19043-SP0', 'event': 'created'}\n"
     ]
    },
    {
     "name": "stdout",
     "output_type": "stream",
     "text": [
      "Wall time: 61.8 ms\n"
     ]
    }
   ],
   "source": [
    "%time model_zhivi = gensim.models.Word2Vec(data, vector_size=300, window=2, min_count=2, epochs=5)"
   ]
  },
  {
   "cell_type": "code",
   "execution_count": 111,
   "id": "43f13e70",
   "metadata": {},
   "outputs": [
    {
     "name": "stderr",
     "output_type": "stream",
     "text": [
      "2021-09-25 03:16:16,834 : WARNING : destructive init_sims(replace=True) deprecated & no longer required for space-efficiency\n",
      "2021-09-25 03:16:16,835 : INFO : storing 575x300 projection weights into zhivi.bin\n"
     ]
    },
    {
     "name": "stdout",
     "output_type": "stream",
     "text": [
      "Saving model...\n"
     ]
    }
   ],
   "source": [
    "model_zhivi.init_sims(replace=True)\n",
    "model_path = \"zhivi.bin\"\n",
    "\n",
    "print(\"Saving model...\")\n",
    "model_zhivi.wv.save_word2vec_format(model_path, binary=True)"
   ]
  },
  {
   "cell_type": "code",
   "execution_count": 112,
   "id": "fba19e2a",
   "metadata": {},
   "outputs": [
    {
     "data": {
      "text/plain": [
       "[('рука', 0.2061190903186798),\n",
       " ('ангара', 0.20223258435726166),\n",
       " ('устраивать', 0.2016851007938385)]"
      ]
     },
     "execution_count": 112,
     "metadata": {},
     "output_type": "execute_result"
    }
   ],
   "source": [
    "model_zhivi.wv.most_similar(positive=[\"смерть\", \"страшный\"], negative=[\"живой\"], topn=3)"
   ]
  },
  {
   "cell_type": "code",
   "execution_count": 113,
   "id": "a3de0ec1",
   "metadata": {},
   "outputs": [
    {
     "data": {
      "text/plain": [
       "[('близость', 0.1832650601863861),\n",
       " ('хотеть', 0.18302297592163086),\n",
       " ('кто', 0.18100076913833618)]"
      ]
     },
     "execution_count": 113,
     "metadata": {},
     "output_type": "execute_result"
    }
   ],
   "source": [
    "model_zhivi.wv.most_similar(\"живой\", topn=3)"
   ]
  },
  {
   "cell_type": "code",
   "execution_count": 114,
   "id": "5ae83b67",
   "metadata": {},
   "outputs": [
    {
     "data": {
      "text/plain": [
       "[('находить', 0.2246973216533661),\n",
       " ('иркутск', 0.18816065788269043),\n",
       " ('всякий', 0.15732118487358093)]"
      ]
     },
     "execution_count": 114,
     "metadata": {},
     "output_type": "execute_result"
    }
   ],
   "source": [
    "model_zhivi.wv.most_similar(\"слеза\", topn=3)"
   ]
  },
  {
   "cell_type": "code",
   "execution_count": 115,
   "id": "8a94832f",
   "metadata": {},
   "outputs": [
    {
     "data": {
      "text/plain": [
       "0.170358"
      ]
     },
     "execution_count": 115,
     "metadata": {},
     "output_type": "execute_result"
    }
   ],
   "source": [
    "model_zhivi.wv.similarity(\"снег\", \"вода\")"
   ]
  },
  {
   "cell_type": "markdown",
   "id": "5db1ec54",
   "metadata": {},
   "source": [
    "The similarity decreased, so it's better to choose 8 as the value of window.\n",
    "Because there are only 575 words, for saving more data, we can decrease the min_count to 1 to see the changes."
   ]
  },
  {
   "cell_type": "code",
   "execution_count": 65,
   "id": "46ac30fd",
   "metadata": {},
   "outputs": [
    {
     "name": "stderr",
     "output_type": "stream",
     "text": [
      "2021-09-25 02:20:38,913 : INFO : collecting all words and their counts\n",
      "2021-09-25 02:20:38,914 : INFO : PROGRESS: at sentence #0, processed 0 words, keeping 0 word types\n",
      "2021-09-25 02:20:38,917 : INFO : collected 1688 word types from a corpus of 5343 raw words and 385 sentences\n",
      "2021-09-25 02:20:38,918 : INFO : Creating a fresh vocabulary\n",
      "2021-09-25 02:20:38,923 : INFO : Word2Vec lifecycle event {'msg': 'effective_min_count=1 retains 1688 unique words (100.0%% of original 1688, drops 0)', 'datetime': '2021-09-25T02:20:38.923690', 'gensim': '4.1.2', 'python': '3.9.7 (tags/v3.9.7:1016ef3, Aug 30 2021, 20:19:38) [MSC v.1929 64 bit (AMD64)]', 'platform': 'Windows-10-10.0.19043-SP0', 'event': 'prepare_vocab'}\n",
      "2021-09-25 02:20:38,923 : INFO : Word2Vec lifecycle event {'msg': 'effective_min_count=1 leaves 5343 word corpus (100.0%% of original 5343, drops 0)', 'datetime': '2021-09-25T02:20:38.923690', 'gensim': '4.1.2', 'python': '3.9.7 (tags/v3.9.7:1016ef3, Aug 30 2021, 20:19:38) [MSC v.1929 64 bit (AMD64)]', 'platform': 'Windows-10-10.0.19043-SP0', 'event': 'prepare_vocab'}\n",
      "2021-09-25 02:20:38,933 : INFO : deleting the raw counts dictionary of 1688 items\n",
      "2021-09-25 02:20:38,933 : INFO : sample=0.001 downsamples 55 most-common words\n",
      "2021-09-25 02:20:38,934 : INFO : Word2Vec lifecycle event {'msg': 'downsampling leaves estimated 4159.3577238901835 word corpus (77.8%% of prior 5343)', 'datetime': '2021-09-25T02:20:38.934662', 'gensim': '4.1.2', 'python': '3.9.7 (tags/v3.9.7:1016ef3, Aug 30 2021, 20:19:38) [MSC v.1929 64 bit (AMD64)]', 'platform': 'Windows-10-10.0.19043-SP0', 'event': 'prepare_vocab'}\n",
      "2021-09-25 02:20:38,947 : INFO : estimated required memory for 1688 words and 300 dimensions: 4895200 bytes\n",
      "2021-09-25 02:20:38,947 : INFO : resetting layer weights\n",
      "2021-09-25 02:20:38,950 : INFO : Word2Vec lifecycle event {'update': False, 'trim_rule': 'None', 'datetime': '2021-09-25T02:20:38.950618', 'gensim': '4.1.2', 'python': '3.9.7 (tags/v3.9.7:1016ef3, Aug 30 2021, 20:19:38) [MSC v.1929 64 bit (AMD64)]', 'platform': 'Windows-10-10.0.19043-SP0', 'event': 'build_vocab'}\n",
      "2021-09-25 02:20:38,950 : INFO : Word2Vec lifecycle event {'msg': 'training model with 3 workers on 1688 vocabulary and 300 features, using sg=0 hs=0 sample=0.001 negative=5 window=8 shrink_windows=True', 'datetime': '2021-09-25T02:20:38.950618', 'gensim': '4.1.2', 'python': '3.9.7 (tags/v3.9.7:1016ef3, Aug 30 2021, 20:19:38) [MSC v.1929 64 bit (AMD64)]', 'platform': 'Windows-10-10.0.19043-SP0', 'event': 'train'}\n",
      "2021-09-25 02:20:38,955 : INFO : worker thread finished; awaiting finish of 2 more threads\n",
      "2021-09-25 02:20:38,955 : INFO : worker thread finished; awaiting finish of 1 more threads\n",
      "2021-09-25 02:20:38,962 : INFO : worker thread finished; awaiting finish of 0 more threads\n",
      "2021-09-25 02:20:38,963 : INFO : EPOCH - 1 : training on 5343 raw words (4127 effective words) took 0.0s, 364261 effective words/s\n",
      "2021-09-25 02:20:38,967 : INFO : worker thread finished; awaiting finish of 2 more threads\n",
      "2021-09-25 02:20:38,968 : INFO : worker thread finished; awaiting finish of 1 more threads\n",
      "2021-09-25 02:20:38,974 : INFO : worker thread finished; awaiting finish of 0 more threads\n",
      "2021-09-25 02:20:38,975 : INFO : EPOCH - 2 : training on 5343 raw words (4160 effective words) took 0.0s, 403868 effective words/s\n",
      "2021-09-25 02:20:38,980 : INFO : worker thread finished; awaiting finish of 2 more threads\n",
      "2021-09-25 02:20:38,981 : INFO : worker thread finished; awaiting finish of 1 more threads\n",
      "2021-09-25 02:20:38,987 : INFO : worker thread finished; awaiting finish of 0 more threads\n",
      "2021-09-25 02:20:38,988 : INFO : EPOCH - 3 : training on 5343 raw words (4152 effective words) took 0.0s, 383464 effective words/s\n",
      "2021-09-25 02:20:38,992 : INFO : worker thread finished; awaiting finish of 2 more threads\n",
      "2021-09-25 02:20:38,993 : INFO : worker thread finished; awaiting finish of 1 more threads\n",
      "2021-09-25 02:20:39,000 : INFO : worker thread finished; awaiting finish of 0 more threads\n",
      "2021-09-25 02:20:39,000 : INFO : EPOCH - 4 : training on 5343 raw words (4145 effective words) took 0.0s, 369654 effective words/s\n",
      "2021-09-25 02:20:39,005 : INFO : worker thread finished; awaiting finish of 2 more threads\n",
      "2021-09-25 02:20:39,006 : INFO : worker thread finished; awaiting finish of 1 more threads\n",
      "2021-09-25 02:20:39,012 : INFO : worker thread finished; awaiting finish of 0 more threads\n",
      "2021-09-25 02:20:39,013 : INFO : EPOCH - 5 : training on 5343 raw words (4153 effective words) took 0.0s, 388548 effective words/s\n",
      "2021-09-25 02:20:39,013 : INFO : Word2Vec lifecycle event {'msg': 'training on 26715 raw words (20737 effective words) took 0.1s, 332900 effective words/s', 'datetime': '2021-09-25T02:20:39.013451', 'gensim': '4.1.2', 'python': '3.9.7 (tags/v3.9.7:1016ef3, Aug 30 2021, 20:19:38) [MSC v.1929 64 bit (AMD64)]', 'platform': 'Windows-10-10.0.19043-SP0', 'event': 'train'}\n",
      "2021-09-25 02:20:39,013 : INFO : Word2Vec lifecycle event {'params': 'Word2Vec(vocab=1688, vector_size=300, alpha=0.025)', 'datetime': '2021-09-25T02:20:39.013451', 'gensim': '4.1.2', 'python': '3.9.7 (tags/v3.9.7:1016ef3, Aug 30 2021, 20:19:38) [MSC v.1929 64 bit (AMD64)]', 'platform': 'Windows-10-10.0.19043-SP0', 'event': 'created'}\n"
     ]
    },
    {
     "name": "stdout",
     "output_type": "stream",
     "text": [
      "Wall time: 101 ms\n"
     ]
    }
   ],
   "source": [
    "%time model_zhivi = gensim.models.Word2Vec(data, vector_size=300, window=8, min_count=1, epochs=5)"
   ]
  },
  {
   "cell_type": "code",
   "execution_count": 108,
   "id": "73b6a36e",
   "metadata": {},
   "outputs": [
    {
     "name": "stderr",
     "output_type": "stream",
     "text": [
      "2021-09-25 03:14:47,432 : WARNING : destructive init_sims(replace=True) deprecated & no longer required for space-efficiency\n",
      "2021-09-25 03:14:47,434 : INFO : storing 575x300 projection weights into zhivi.bin\n"
     ]
    },
    {
     "name": "stdout",
     "output_type": "stream",
     "text": [
      "Saving model...\n"
     ]
    }
   ],
   "source": [
    "model_zhivi.init_sims(replace=True)\n",
    "model_path = \"zhivi.bin\"\n",
    "\n",
    "print(\"Saving model...\")\n",
    "model_zhivi.wv.save_word2vec_format(model_path, binary=True)"
   ]
  },
  {
   "cell_type": "code",
   "execution_count": 66,
   "id": "a0921044",
   "metadata": {},
   "outputs": [
    {
     "name": "stderr",
     "output_type": "stream",
     "text": [
      "2021-09-25 02:21:05,021 : WARNING : destructive init_sims(replace=True) deprecated & no longer required for space-efficiency\n",
      "2021-09-25 02:21:05,023 : INFO : storing 1688x300 projection weights into zhivi.bin\n"
     ]
    },
    {
     "name": "stdout",
     "output_type": "stream",
     "text": [
      "Saving model...\n"
     ]
    }
   ],
   "source": [
    "model_zhivi.init_sims(replace=True)\n",
    "model_path = \"zhivi.bin\"\n",
    "\n",
    "print(\"Saving model...\")\n",
    "model_zhivi.wv.save_word2vec_format(model_path, binary=True)"
   ]
  },
  {
   "cell_type": "code",
   "execution_count": 67,
   "id": "bee4ff78",
   "metadata": {},
   "outputs": [
    {
     "data": {
      "text/plain": [
       "[('а', 0.330352783203125),\n",
       " ('с', 0.32338014245033264),\n",
       " ('быть', 0.3215075135231018)]"
      ]
     },
     "execution_count": 67,
     "metadata": {},
     "output_type": "execute_result"
    }
   ],
   "source": [
    "model_zhivi.wv.most_similar(positive=[\"смерть\", \"страшный\"], negative=[\"живой\"], topn=3)"
   ]
  },
  {
   "cell_type": "code",
   "execution_count": 68,
   "id": "1167a3fc",
   "metadata": {},
   "outputs": [
    {
     "data": {
      "text/plain": [
       "[('добывать', 0.21877023577690125),\n",
       " ('втроем', 0.21272563934326172),\n",
       " ('ворчать', 0.2100210189819336)]"
      ]
     },
     "execution_count": 68,
     "metadata": {},
     "output_type": "execute_result"
    }
   ],
   "source": [
    "model_zhivi.wv.most_similar(\"живой\", topn=3)"
   ]
  },
  {
   "cell_type": "markdown",
   "id": "63781f3d",
   "metadata": {},
   "source": [
    "These three words are far from the given word senmantically."
   ]
  },
  {
   "cell_type": "code",
   "execution_count": 69,
   "id": "b3789704",
   "metadata": {},
   "outputs": [
    {
     "data": {
      "text/plain": [
       "0.123030275"
      ]
     },
     "execution_count": 69,
     "metadata": {},
     "output_type": "execute_result"
    }
   ],
   "source": [
    "model_zhivi.wv.similarity(\"снег\", \"вода\")"
   ]
  },
  {
   "cell_type": "code",
   "execution_count": null,
   "id": "a53ff522",
   "metadata": {},
   "outputs": [],
   "source": [
    "This similarity decreased. "
   ]
  },
  {
   "cell_type": "code",
   "execution_count": 70,
   "id": "018f594e",
   "metadata": {},
   "outputs": [
    {
     "name": "stderr",
     "output_type": "stream",
     "text": [
      "2021-09-25 02:22:45,538 : WARNING : vectors for words {'улыбка', 'скорбь', 'грусть'} are not present in the model, ignoring these words\n"
     ]
    },
    {
     "data": {
      "text/plain": [
       "'слеза'"
      ]
     },
     "execution_count": 70,
     "metadata": {},
     "output_type": "execute_result"
    }
   ],
   "source": [
    "model_zhivi.wv.doesnt_match(\"скорбь грусть слеза улыбка\".split())"
   ]
  },
  {
   "cell_type": "markdown",
   "id": "eee23f10",
   "metadata": {},
   "source": [
    "From the result, decrease the min-count is not a good idea. But how about increasing it?"
   ]
  },
  {
   "cell_type": "code",
   "execution_count": 71,
   "id": "bc8575bb",
   "metadata": {},
   "outputs": [
    {
     "name": "stderr",
     "output_type": "stream",
     "text": [
      "2021-09-25 02:35:40,904 : INFO : collecting all words and their counts\n",
      "2021-09-25 02:35:40,905 : INFO : PROGRESS: at sentence #0, processed 0 words, keeping 0 word types\n",
      "2021-09-25 02:35:40,908 : INFO : collected 1688 word types from a corpus of 5343 raw words and 385 sentences\n",
      "2021-09-25 02:35:40,908 : INFO : Creating a fresh vocabulary\n",
      "2021-09-25 02:35:40,910 : INFO : Word2Vec lifecycle event {'msg': 'effective_min_count=3 retains 343 unique words (20.319905213270143%% of original 1688, drops 1345)', 'datetime': '2021-09-25T02:35:40.910990', 'gensim': '4.1.2', 'python': '3.9.7 (tags/v3.9.7:1016ef3, Aug 30 2021, 20:19:38) [MSC v.1929 64 bit (AMD64)]', 'platform': 'Windows-10-10.0.19043-SP0', 'event': 'prepare_vocab'}\n",
      "2021-09-25 02:35:40,910 : INFO : Word2Vec lifecycle event {'msg': 'effective_min_count=3 leaves 3766 word corpus (70.48474639715516%% of original 5343, drops 1577)', 'datetime': '2021-09-25T02:35:40.910990', 'gensim': '4.1.2', 'python': '3.9.7 (tags/v3.9.7:1016ef3, Aug 30 2021, 20:19:38) [MSC v.1929 64 bit (AMD64)]', 'platform': 'Windows-10-10.0.19043-SP0', 'event': 'prepare_vocab'}\n",
      "2021-09-25 02:35:40,912 : INFO : deleting the raw counts dictionary of 1688 items\n",
      "2021-09-25 02:35:40,913 : INFO : sample=0.001 downsamples 84 most-common words\n",
      "2021-09-25 02:35:40,913 : INFO : Word2Vec lifecycle event {'msg': 'downsampling leaves estimated 2343.1862754408544 word corpus (62.2%% of prior 3766)', 'datetime': '2021-09-25T02:35:40.913983', 'gensim': '4.1.2', 'python': '3.9.7 (tags/v3.9.7:1016ef3, Aug 30 2021, 20:19:38) [MSC v.1929 64 bit (AMD64)]', 'platform': 'Windows-10-10.0.19043-SP0', 'event': 'prepare_vocab'}\n",
      "2021-09-25 02:35:40,916 : INFO : estimated required memory for 343 words and 300 dimensions: 994700 bytes\n",
      "2021-09-25 02:35:40,916 : INFO : resetting layer weights\n",
      "2021-09-25 02:35:40,917 : INFO : Word2Vec lifecycle event {'update': False, 'trim_rule': 'None', 'datetime': '2021-09-25T02:35:40.917971', 'gensim': '4.1.2', 'python': '3.9.7 (tags/v3.9.7:1016ef3, Aug 30 2021, 20:19:38) [MSC v.1929 64 bit (AMD64)]', 'platform': 'Windows-10-10.0.19043-SP0', 'event': 'build_vocab'}\n",
      "2021-09-25 02:35:40,918 : INFO : Word2Vec lifecycle event {'msg': 'training model with 3 workers on 343 vocabulary and 300 features, using sg=0 hs=0 sample=0.001 negative=5 window=8 shrink_windows=True', 'datetime': '2021-09-25T02:35:40.918968', 'gensim': '4.1.2', 'python': '3.9.7 (tags/v3.9.7:1016ef3, Aug 30 2021, 20:19:38) [MSC v.1929 64 bit (AMD64)]', 'platform': 'Windows-10-10.0.19043-SP0', 'event': 'train'}\n",
      "2021-09-25 02:35:40,923 : INFO : worker thread finished; awaiting finish of 2 more threads\n",
      "2021-09-25 02:35:40,923 : INFO : worker thread finished; awaiting finish of 1 more threads\n",
      "2021-09-25 02:35:40,926 : INFO : worker thread finished; awaiting finish of 0 more threads\n",
      "2021-09-25 02:35:40,926 : INFO : EPOCH - 1 : training on 5343 raw words (2283 effective words) took 0.0s, 340640 effective words/s\n",
      "2021-09-25 02:35:40,930 : INFO : worker thread finished; awaiting finish of 2 more threads\n",
      "2021-09-25 02:35:40,930 : INFO : worker thread finished; awaiting finish of 1 more threads\n",
      "2021-09-25 02:35:40,933 : INFO : worker thread finished; awaiting finish of 0 more threads\n",
      "2021-09-25 02:35:40,933 : INFO : EPOCH - 2 : training on 5343 raw words (2358 effective words) took 0.0s, 406503 effective words/s\n",
      "2021-09-25 02:35:40,938 : INFO : worker thread finished; awaiting finish of 2 more threads\n",
      "2021-09-25 02:35:40,938 : INFO : worker thread finished; awaiting finish of 1 more threads\n",
      "2021-09-25 02:35:40,941 : INFO : worker thread finished; awaiting finish of 0 more threads\n",
      "2021-09-25 02:35:40,941 : INFO : EPOCH - 3 : training on 5343 raw words (2325 effective words) took 0.0s, 387164 effective words/s\n",
      "2021-09-25 02:35:40,945 : INFO : worker thread finished; awaiting finish of 2 more threads\n",
      "2021-09-25 02:35:40,945 : INFO : worker thread finished; awaiting finish of 1 more threads\n",
      "2021-09-25 02:35:40,948 : INFO : worker thread finished; awaiting finish of 0 more threads\n",
      "2021-09-25 02:35:40,948 : INFO : EPOCH - 4 : training on 5343 raw words (2347 effective words) took 0.0s, 411538 effective words/s\n",
      "2021-09-25 02:35:40,952 : INFO : worker thread finished; awaiting finish of 2 more threads\n",
      "2021-09-25 02:35:40,952 : INFO : worker thread finished; awaiting finish of 1 more threads\n",
      "2021-09-25 02:35:40,955 : INFO : worker thread finished; awaiting finish of 0 more threads\n",
      "2021-09-25 02:35:40,955 : INFO : EPOCH - 5 : training on 5343 raw words (2354 effective words) took 0.0s, 402352 effective words/s\n",
      "2021-09-25 02:35:40,956 : INFO : Word2Vec lifecycle event {'msg': 'training on 26715 raw words (11667 effective words) took 0.0s, 309414 effective words/s', 'datetime': '2021-09-25T02:35:40.956867', 'gensim': '4.1.2', 'python': '3.9.7 (tags/v3.9.7:1016ef3, Aug 30 2021, 20:19:38) [MSC v.1929 64 bit (AMD64)]', 'platform': 'Windows-10-10.0.19043-SP0', 'event': 'train'}\n",
      "2021-09-25 02:35:40,956 : INFO : Word2Vec lifecycle event {'params': 'Word2Vec(vocab=343, vector_size=300, alpha=0.025)', 'datetime': '2021-09-25T02:35:40.956867', 'gensim': '4.1.2', 'python': '3.9.7 (tags/v3.9.7:1016ef3, Aug 30 2021, 20:19:38) [MSC v.1929 64 bit (AMD64)]', 'platform': 'Windows-10-10.0.19043-SP0', 'event': 'created'}\n"
     ]
    },
    {
     "name": "stdout",
     "output_type": "stream",
     "text": [
      "Wall time: 53.9 ms\n"
     ]
    }
   ],
   "source": [
    "%time model_zhivi = gensim.models.Word2Vec(data, vector_size=300, window=8, min_count=3, epochs=5)"
   ]
  },
  {
   "cell_type": "code",
   "execution_count": 72,
   "id": "0a742778",
   "metadata": {},
   "outputs": [
    {
     "name": "stderr",
     "output_type": "stream",
     "text": [
      "2021-09-25 02:36:03,682 : WARNING : destructive init_sims(replace=True) deprecated & no longer required for space-efficiency\n",
      "2021-09-25 02:36:03,683 : INFO : storing 343x300 projection weights into zhivi.bin\n"
     ]
    },
    {
     "name": "stdout",
     "output_type": "stream",
     "text": [
      "Saving model...\n"
     ]
    }
   ],
   "source": [
    "model_zhivi.init_sims(replace=True)\n",
    "model_path = \"zhivi.bin\"\n",
    "\n",
    "print(\"Saving model...\")\n",
    "model_zhivi.wv.save_word2vec_format(model_path, binary=True)"
   ]
  },
  {
   "cell_type": "code",
   "execution_count": 73,
   "id": "af99dca5",
   "metadata": {},
   "outputs": [
    {
     "ename": "KeyError",
     "evalue": "\"Key 'страшный' not present\"",
     "output_type": "error",
     "traceback": [
      "\u001b[1;31m---------------------------------------------------------------------------\u001b[0m",
      "\u001b[1;31mKeyError\u001b[0m                                  Traceback (most recent call last)",
      "\u001b[1;32m~\\AppData\\Local\\Temp/ipykernel_37688/662231328.py\u001b[0m in \u001b[0;36m<module>\u001b[1;34m\u001b[0m\n\u001b[1;32m----> 1\u001b[1;33m \u001b[0mmodel_zhivi\u001b[0m\u001b[1;33m.\u001b[0m\u001b[0mwv\u001b[0m\u001b[1;33m.\u001b[0m\u001b[0mmost_similar\u001b[0m\u001b[1;33m(\u001b[0m\u001b[0mpositive\u001b[0m\u001b[1;33m=\u001b[0m\u001b[1;33m[\u001b[0m\u001b[1;34m\"смерть\"\u001b[0m\u001b[1;33m,\u001b[0m \u001b[1;34m\"страшный\"\u001b[0m\u001b[1;33m]\u001b[0m\u001b[1;33m,\u001b[0m \u001b[0mnegative\u001b[0m\u001b[1;33m=\u001b[0m\u001b[1;33m[\u001b[0m\u001b[1;34m\"живой\"\u001b[0m\u001b[1;33m]\u001b[0m\u001b[1;33m,\u001b[0m \u001b[0mtopn\u001b[0m\u001b[1;33m=\u001b[0m\u001b[1;36m3\u001b[0m\u001b[1;33m)\u001b[0m\u001b[1;33m\u001b[0m\u001b[1;33m\u001b[0m\u001b[0m\n\u001b[0m",
      "\u001b[1;32m~\\AppData\\Local\\Packages\\PythonSoftwareFoundation.Python.3.9_qbz5n2kfra8p0\\LocalCache\\local-packages\\Python39\\site-packages\\gensim\\models\\keyedvectors.py\u001b[0m in \u001b[0;36mmost_similar\u001b[1;34m(self, positive, negative, topn, clip_start, clip_end, restrict_vocab, indexer)\u001b[0m\n\u001b[0;32m    771\u001b[0m                 \u001b[0mmean\u001b[0m\u001b[1;33m.\u001b[0m\u001b[0mappend\u001b[0m\u001b[1;33m(\u001b[0m\u001b[0mweight\u001b[0m \u001b[1;33m*\u001b[0m \u001b[0mkey\u001b[0m\u001b[1;33m)\u001b[0m\u001b[1;33m\u001b[0m\u001b[1;33m\u001b[0m\u001b[0m\n\u001b[0;32m    772\u001b[0m             \u001b[1;32melse\u001b[0m\u001b[1;33m:\u001b[0m\u001b[1;33m\u001b[0m\u001b[1;33m\u001b[0m\u001b[0m\n\u001b[1;32m--> 773\u001b[1;33m                 \u001b[0mmean\u001b[0m\u001b[1;33m.\u001b[0m\u001b[0mappend\u001b[0m\u001b[1;33m(\u001b[0m\u001b[0mweight\u001b[0m \u001b[1;33m*\u001b[0m \u001b[0mself\u001b[0m\u001b[1;33m.\u001b[0m\u001b[0mget_vector\u001b[0m\u001b[1;33m(\u001b[0m\u001b[0mkey\u001b[0m\u001b[1;33m,\u001b[0m \u001b[0mnorm\u001b[0m\u001b[1;33m=\u001b[0m\u001b[1;32mTrue\u001b[0m\u001b[1;33m)\u001b[0m\u001b[1;33m)\u001b[0m\u001b[1;33m\u001b[0m\u001b[1;33m\u001b[0m\u001b[0m\n\u001b[0m\u001b[0;32m    774\u001b[0m                 \u001b[1;32mif\u001b[0m \u001b[0mself\u001b[0m\u001b[1;33m.\u001b[0m\u001b[0mhas_index_for\u001b[0m\u001b[1;33m(\u001b[0m\u001b[0mkey\u001b[0m\u001b[1;33m)\u001b[0m\u001b[1;33m:\u001b[0m\u001b[1;33m\u001b[0m\u001b[1;33m\u001b[0m\u001b[0m\n\u001b[0;32m    775\u001b[0m                     \u001b[0mall_keys\u001b[0m\u001b[1;33m.\u001b[0m\u001b[0madd\u001b[0m\u001b[1;33m(\u001b[0m\u001b[0mself\u001b[0m\u001b[1;33m.\u001b[0m\u001b[0mget_index\u001b[0m\u001b[1;33m(\u001b[0m\u001b[0mkey\u001b[0m\u001b[1;33m)\u001b[0m\u001b[1;33m)\u001b[0m\u001b[1;33m\u001b[0m\u001b[1;33m\u001b[0m\u001b[0m\n",
      "\u001b[1;32m~\\AppData\\Local\\Packages\\PythonSoftwareFoundation.Python.3.9_qbz5n2kfra8p0\\LocalCache\\local-packages\\Python39\\site-packages\\gensim\\models\\keyedvectors.py\u001b[0m in \u001b[0;36mget_vector\u001b[1;34m(self, key, norm)\u001b[0m\n\u001b[0;32m    436\u001b[0m \u001b[1;33m\u001b[0m\u001b[0m\n\u001b[0;32m    437\u001b[0m         \"\"\"\n\u001b[1;32m--> 438\u001b[1;33m         \u001b[0mindex\u001b[0m \u001b[1;33m=\u001b[0m \u001b[0mself\u001b[0m\u001b[1;33m.\u001b[0m\u001b[0mget_index\u001b[0m\u001b[1;33m(\u001b[0m\u001b[0mkey\u001b[0m\u001b[1;33m)\u001b[0m\u001b[1;33m\u001b[0m\u001b[1;33m\u001b[0m\u001b[0m\n\u001b[0m\u001b[0;32m    439\u001b[0m         \u001b[1;32mif\u001b[0m \u001b[0mnorm\u001b[0m\u001b[1;33m:\u001b[0m\u001b[1;33m\u001b[0m\u001b[1;33m\u001b[0m\u001b[0m\n\u001b[0;32m    440\u001b[0m             \u001b[0mself\u001b[0m\u001b[1;33m.\u001b[0m\u001b[0mfill_norms\u001b[0m\u001b[1;33m(\u001b[0m\u001b[1;33m)\u001b[0m\u001b[1;33m\u001b[0m\u001b[1;33m\u001b[0m\u001b[0m\n",
      "\u001b[1;32m~\\AppData\\Local\\Packages\\PythonSoftwareFoundation.Python.3.9_qbz5n2kfra8p0\\LocalCache\\local-packages\\Python39\\site-packages\\gensim\\models\\keyedvectors.py\u001b[0m in \u001b[0;36mget_index\u001b[1;34m(self, key, default)\u001b[0m\n\u001b[0;32m    410\u001b[0m             \u001b[1;32mreturn\u001b[0m \u001b[0mdefault\u001b[0m\u001b[1;33m\u001b[0m\u001b[1;33m\u001b[0m\u001b[0m\n\u001b[0;32m    411\u001b[0m         \u001b[1;32melse\u001b[0m\u001b[1;33m:\u001b[0m\u001b[1;33m\u001b[0m\u001b[1;33m\u001b[0m\u001b[0m\n\u001b[1;32m--> 412\u001b[1;33m             \u001b[1;32mraise\u001b[0m \u001b[0mKeyError\u001b[0m\u001b[1;33m(\u001b[0m\u001b[1;34mf\"Key '{key}' not present\"\u001b[0m\u001b[1;33m)\u001b[0m\u001b[1;33m\u001b[0m\u001b[1;33m\u001b[0m\u001b[0m\n\u001b[0m\u001b[0;32m    413\u001b[0m \u001b[1;33m\u001b[0m\u001b[0m\n\u001b[0;32m    414\u001b[0m     \u001b[1;32mdef\u001b[0m \u001b[0mget_vector\u001b[0m\u001b[1;33m(\u001b[0m\u001b[0mself\u001b[0m\u001b[1;33m,\u001b[0m \u001b[0mkey\u001b[0m\u001b[1;33m,\u001b[0m \u001b[0mnorm\u001b[0m\u001b[1;33m=\u001b[0m\u001b[1;32mFalse\u001b[0m\u001b[1;33m)\u001b[0m\u001b[1;33m:\u001b[0m\u001b[1;33m\u001b[0m\u001b[1;33m\u001b[0m\u001b[0m\n",
      "\u001b[1;31mKeyError\u001b[0m: \"Key 'страшный' not present\""
     ]
    }
   ],
   "source": [
    "model_zhivi.wv.most_similar(positive=[\"смерть\", \"страшный\"], negative=[\"живой\"], topn=3)"
   ]
  },
  {
   "cell_type": "markdown",
   "id": "804c9f93",
   "metadata": {},
   "source": [
    "This error means the word 'страшный' only shows up 2 times, so when min_count increase to 3, there are no this word which can get involved in the model."
   ]
  },
  {
   "cell_type": "code",
   "execution_count": 74,
   "id": "64b80259",
   "metadata": {},
   "outputs": [
    {
     "data": {
      "text/plain": [
       "[('уходить', 0.24894332885742188),\n",
       " ('раз', 0.23829743266105652),\n",
       " ('время', 0.23623281717300415)]"
      ]
     },
     "execution_count": 74,
     "metadata": {},
     "output_type": "execute_result"
    }
   ],
   "source": [
    "model_zhivi.wv.most_similar(\"живой\", topn=3)"
   ]
  },
  {
   "cell_type": "code",
   "execution_count": 75,
   "id": "e991a3e8",
   "metadata": {},
   "outputs": [
    {
     "data": {
      "text/plain": [
       "0.51573676"
      ]
     },
     "execution_count": 75,
     "metadata": {},
     "output_type": "execute_result"
    }
   ],
   "source": [
    "model_zhivi.wv.similarity(\"снег\", \"вода\")"
   ]
  },
  {
   "cell_type": "code",
   "execution_count": 77,
   "id": "127d6006",
   "metadata": {},
   "outputs": [
    {
     "name": "stderr",
     "output_type": "stream",
     "text": [
      "2021-09-25 02:42:05,231 : WARNING : vectors for words {'улыбка', 'скорбь', 'слеза', 'грусть'} are not present in the model, ignoring these words\n"
     ]
    },
    {
     "ename": "ValueError",
     "evalue": "cannot select a word from an empty list",
     "output_type": "error",
     "traceback": [
      "\u001b[1;31m---------------------------------------------------------------------------\u001b[0m",
      "\u001b[1;31mValueError\u001b[0m                                Traceback (most recent call last)",
      "\u001b[1;32m~\\AppData\\Local\\Temp/ipykernel_37688/3882070391.py\u001b[0m in \u001b[0;36m<module>\u001b[1;34m\u001b[0m\n\u001b[1;32m----> 1\u001b[1;33m \u001b[0mmodel_zhivi\u001b[0m\u001b[1;33m.\u001b[0m\u001b[0mwv\u001b[0m\u001b[1;33m.\u001b[0m\u001b[0mdoesnt_match\u001b[0m\u001b[1;33m(\u001b[0m\u001b[1;34m\"скорбь грусть слеза улыбка\"\u001b[0m\u001b[1;33m.\u001b[0m\u001b[0msplit\u001b[0m\u001b[1;33m(\u001b[0m\u001b[1;33m)\u001b[0m\u001b[1;33m)\u001b[0m\u001b[1;33m\u001b[0m\u001b[1;33m\u001b[0m\u001b[0m\n\u001b[0m",
      "\u001b[1;32m~\\AppData\\Local\\Packages\\PythonSoftwareFoundation.Python.3.9_qbz5n2kfra8p0\\LocalCache\\local-packages\\Python39\\site-packages\\gensim\\models\\keyedvectors.py\u001b[0m in \u001b[0;36mdoesnt_match\u001b[1;34m(self, words)\u001b[0m\n\u001b[0;32m   1058\u001b[0m \u001b[1;33m\u001b[0m\u001b[0m\n\u001b[0;32m   1059\u001b[0m         \"\"\"\n\u001b[1;32m-> 1060\u001b[1;33m         \u001b[1;32mreturn\u001b[0m \u001b[0mself\u001b[0m\u001b[1;33m.\u001b[0m\u001b[0mrank_by_centrality\u001b[0m\u001b[1;33m(\u001b[0m\u001b[0mwords\u001b[0m\u001b[1;33m)\u001b[0m\u001b[1;33m[\u001b[0m\u001b[1;33m-\u001b[0m\u001b[1;36m1\u001b[0m\u001b[1;33m]\u001b[0m\u001b[1;33m[\u001b[0m\u001b[1;36m1\u001b[0m\u001b[1;33m]\u001b[0m\u001b[1;33m\u001b[0m\u001b[1;33m\u001b[0m\u001b[0m\n\u001b[0m\u001b[0;32m   1061\u001b[0m \u001b[1;33m\u001b[0m\u001b[0m\n\u001b[0;32m   1062\u001b[0m     \u001b[1;33m@\u001b[0m\u001b[0mstaticmethod\u001b[0m\u001b[1;33m\u001b[0m\u001b[1;33m\u001b[0m\u001b[0m\n",
      "\u001b[1;32m~\\AppData\\Local\\Packages\\PythonSoftwareFoundation.Python.3.9_qbz5n2kfra8p0\\LocalCache\\local-packages\\Python39\\site-packages\\gensim\\models\\keyedvectors.py\u001b[0m in \u001b[0;36mrank_by_centrality\u001b[1;34m(self, words, use_norm)\u001b[0m\n\u001b[0;32m   1038\u001b[0m             \u001b[0mlogger\u001b[0m\u001b[1;33m.\u001b[0m\u001b[0mwarning\u001b[0m\u001b[1;33m(\u001b[0m\u001b[1;34m\"vectors for words %s are not present in the model, ignoring these words\"\u001b[0m\u001b[1;33m,\u001b[0m \u001b[0mignored_words\u001b[0m\u001b[1;33m)\u001b[0m\u001b[1;33m\u001b[0m\u001b[1;33m\u001b[0m\u001b[0m\n\u001b[0;32m   1039\u001b[0m         \u001b[1;32mif\u001b[0m \u001b[1;32mnot\u001b[0m \u001b[0mused_words\u001b[0m\u001b[1;33m:\u001b[0m\u001b[1;33m\u001b[0m\u001b[1;33m\u001b[0m\u001b[0m\n\u001b[1;32m-> 1040\u001b[1;33m             \u001b[1;32mraise\u001b[0m \u001b[0mValueError\u001b[0m\u001b[1;33m(\u001b[0m\u001b[1;34m\"cannot select a word from an empty list\"\u001b[0m\u001b[1;33m)\u001b[0m\u001b[1;33m\u001b[0m\u001b[1;33m\u001b[0m\u001b[0m\n\u001b[0m\u001b[0;32m   1041\u001b[0m         \u001b[0mvectors\u001b[0m \u001b[1;33m=\u001b[0m \u001b[0mvstack\u001b[0m\u001b[1;33m(\u001b[0m\u001b[1;33m[\u001b[0m\u001b[0mself\u001b[0m\u001b[1;33m.\u001b[0m\u001b[0mget_vector\u001b[0m\u001b[1;33m(\u001b[0m\u001b[0mword\u001b[0m\u001b[1;33m,\u001b[0m \u001b[0mnorm\u001b[0m\u001b[1;33m=\u001b[0m\u001b[0muse_norm\u001b[0m\u001b[1;33m)\u001b[0m \u001b[1;32mfor\u001b[0m \u001b[0mword\u001b[0m \u001b[1;32min\u001b[0m \u001b[0mused_words\u001b[0m\u001b[1;33m]\u001b[0m\u001b[1;33m)\u001b[0m\u001b[1;33m.\u001b[0m\u001b[0mastype\u001b[0m\u001b[1;33m(\u001b[0m\u001b[0mREAL\u001b[0m\u001b[1;33m)\u001b[0m\u001b[1;33m\u001b[0m\u001b[1;33m\u001b[0m\u001b[0m\n\u001b[0;32m   1042\u001b[0m         \u001b[0mmean\u001b[0m \u001b[1;33m=\u001b[0m \u001b[0mmatutils\u001b[0m\u001b[1;33m.\u001b[0m\u001b[0munitvec\u001b[0m\u001b[1;33m(\u001b[0m\u001b[0mvectors\u001b[0m\u001b[1;33m.\u001b[0m\u001b[0mmean\u001b[0m\u001b[1;33m(\u001b[0m\u001b[0maxis\u001b[0m\u001b[1;33m=\u001b[0m\u001b[1;36m0\u001b[0m\u001b[1;33m)\u001b[0m\u001b[1;33m)\u001b[0m\u001b[1;33m.\u001b[0m\u001b[0mastype\u001b[0m\u001b[1;33m(\u001b[0m\u001b[0mREAL\u001b[0m\u001b[1;33m)\u001b[0m\u001b[1;33m\u001b[0m\u001b[1;33m\u001b[0m\u001b[0m\n",
      "\u001b[1;31mValueError\u001b[0m: cannot select a word from an empty list"
     ]
    }
   ],
   "source": [
    "model_zhivi.wv.doesnt_match(\"скорбь грусть слеза улыбка\".split())"
   ]
  },
  {
   "cell_type": "markdown",
   "id": "889d9667",
   "metadata": {},
   "source": [
    "It seems the four words \"скорбь\" \"грусть\" \"слеза\" \"улыбка\" can't not get involved in thid modle beacuse they appear only twice.\n",
    "So it's better to keep the min_count to 2.\n",
    "We can change the vector_sive, firstly, decrease it to 100."
   ]
  },
  {
   "cell_type": "code",
   "execution_count": 78,
   "id": "5d317df3",
   "metadata": {},
   "outputs": [
    {
     "name": "stderr",
     "output_type": "stream",
     "text": [
      "2021-09-25 02:47:29,272 : INFO : collecting all words and their counts\n",
      "2021-09-25 02:47:29,273 : INFO : PROGRESS: at sentence #0, processed 0 words, keeping 0 word types\n",
      "2021-09-25 02:47:29,276 : INFO : collected 1688 word types from a corpus of 5343 raw words and 385 sentences\n",
      "2021-09-25 02:47:29,277 : INFO : Creating a fresh vocabulary\n",
      "2021-09-25 02:47:29,279 : INFO : Word2Vec lifecycle event {'msg': 'effective_min_count=2 retains 575 unique words (34.06398104265403%% of original 1688, drops 1113)', 'datetime': '2021-09-25T02:47:29.279693', 'gensim': '4.1.2', 'python': '3.9.7 (tags/v3.9.7:1016ef3, Aug 30 2021, 20:19:38) [MSC v.1929 64 bit (AMD64)]', 'platform': 'Windows-10-10.0.19043-SP0', 'event': 'prepare_vocab'}\n",
      "2021-09-25 02:47:29,279 : INFO : Word2Vec lifecycle event {'msg': 'effective_min_count=2 leaves 4230 word corpus (79.16900617630544%% of original 5343, drops 1113)', 'datetime': '2021-09-25T02:47:29.279693', 'gensim': '4.1.2', 'python': '3.9.7 (tags/v3.9.7:1016ef3, Aug 30 2021, 20:19:38) [MSC v.1929 64 bit (AMD64)]', 'platform': 'Windows-10-10.0.19043-SP0', 'event': 'prepare_vocab'}\n",
      "2021-09-25 02:47:29,282 : INFO : deleting the raw counts dictionary of 1688 items\n",
      "2021-09-25 02:47:29,283 : INFO : sample=0.001 downsamples 73 most-common words\n",
      "2021-09-25 02:47:29,283 : INFO : Word2Vec lifecycle event {'msg': 'downsampling leaves estimated 2888.134993852409 word corpus (68.3%% of prior 4230)', 'datetime': '2021-09-25T02:47:29.283682', 'gensim': '4.1.2', 'python': '3.9.7 (tags/v3.9.7:1016ef3, Aug 30 2021, 20:19:38) [MSC v.1929 64 bit (AMD64)]', 'platform': 'Windows-10-10.0.19043-SP0', 'event': 'prepare_vocab'}\n",
      "2021-09-25 02:47:29,287 : INFO : estimated required memory for 575 words and 100 dimensions: 747500 bytes\n",
      "2021-09-25 02:47:29,288 : INFO : resetting layer weights\n",
      "2021-09-25 02:47:29,288 : INFO : Word2Vec lifecycle event {'update': False, 'trim_rule': 'None', 'datetime': '2021-09-25T02:47:29.288669', 'gensim': '4.1.2', 'python': '3.9.7 (tags/v3.9.7:1016ef3, Aug 30 2021, 20:19:38) [MSC v.1929 64 bit (AMD64)]', 'platform': 'Windows-10-10.0.19043-SP0', 'event': 'build_vocab'}\n",
      "2021-09-25 02:47:29,289 : INFO : Word2Vec lifecycle event {'msg': 'training model with 3 workers on 575 vocabulary and 100 features, using sg=0 hs=0 sample=0.001 negative=5 window=8 shrink_windows=True', 'datetime': '2021-09-25T02:47:29.289665', 'gensim': '4.1.2', 'python': '3.9.7 (tags/v3.9.7:1016ef3, Aug 30 2021, 20:19:38) [MSC v.1929 64 bit (AMD64)]', 'platform': 'Windows-10-10.0.19043-SP0', 'event': 'train'}\n",
      "2021-09-25 02:47:29,294 : INFO : worker thread finished; awaiting finish of 2 more threads\n",
      "2021-09-25 02:47:29,294 : INFO : worker thread finished; awaiting finish of 1 more threads\n",
      "2021-09-25 02:47:29,297 : INFO : worker thread finished; awaiting finish of 0 more threads\n",
      "2021-09-25 02:47:29,297 : INFO : EPOCH - 1 : training on 5343 raw words (2814 effective words) took 0.0s, 467621 effective words/s\n",
      "2021-09-25 02:47:29,301 : INFO : worker thread finished; awaiting finish of 2 more threads\n",
      "2021-09-25 02:47:29,301 : INFO : worker thread finished; awaiting finish of 1 more threads\n",
      "2021-09-25 02:47:29,304 : INFO : worker thread finished; awaiting finish of 0 more threads\n",
      "2021-09-25 02:47:29,304 : INFO : EPOCH - 2 : training on 5343 raw words (2918 effective words) took 0.0s, 498957 effective words/s\n",
      "2021-09-25 02:47:29,309 : INFO : worker thread finished; awaiting finish of 2 more threads\n",
      "2021-09-25 02:47:29,310 : INFO : worker thread finished; awaiting finish of 1 more threads\n",
      "2021-09-25 02:47:29,312 : INFO : worker thread finished; awaiting finish of 0 more threads\n",
      "2021-09-25 02:47:29,313 : INFO : EPOCH - 3 : training on 5343 raw words (2891 effective words) took 0.0s, 430612 effective words/s\n",
      "2021-09-25 02:47:29,317 : INFO : worker thread finished; awaiting finish of 2 more threads\n",
      "2021-09-25 02:47:29,318 : INFO : worker thread finished; awaiting finish of 1 more threads\n",
      "2021-09-25 02:47:29,320 : INFO : worker thread finished; awaiting finish of 0 more threads\n",
      "2021-09-25 02:47:29,320 : INFO : EPOCH - 4 : training on 5343 raw words (2894 effective words) took 0.0s, 473611 effective words/s\n",
      "2021-09-25 02:47:29,324 : INFO : worker thread finished; awaiting finish of 2 more threads\n",
      "2021-09-25 02:47:29,324 : INFO : worker thread finished; awaiting finish of 1 more threads\n",
      "2021-09-25 02:47:29,327 : INFO : worker thread finished; awaiting finish of 0 more threads\n",
      "2021-09-25 02:47:29,327 : INFO : EPOCH - 5 : training on 5343 raw words (2885 effective words) took 0.0s, 521577 effective words/s\n",
      "2021-09-25 02:47:29,328 : INFO : Word2Vec lifecycle event {'msg': 'training on 26715 raw words (14402 effective words) took 0.0s, 376244 effective words/s', 'datetime': '2021-09-25T02:47:29.327566', 'gensim': '4.1.2', 'python': '3.9.7 (tags/v3.9.7:1016ef3, Aug 30 2021, 20:19:38) [MSC v.1929 64 bit (AMD64)]', 'platform': 'Windows-10-10.0.19043-SP0', 'event': 'train'}\n",
      "2021-09-25 02:47:29,328 : INFO : Word2Vec lifecycle event {'params': 'Word2Vec(vocab=575, vector_size=100, alpha=0.025)', 'datetime': '2021-09-25T02:47:29.328563', 'gensim': '4.1.2', 'python': '3.9.7 (tags/v3.9.7:1016ef3, Aug 30 2021, 20:19:38) [MSC v.1929 64 bit (AMD64)]', 'platform': 'Windows-10-10.0.19043-SP0', 'event': 'created'}\n"
     ]
    },
    {
     "name": "stdout",
     "output_type": "stream",
     "text": [
      "Wall time: 55.9 ms\n"
     ]
    }
   ],
   "source": [
    "%time model_zhivi = gensim.models.Word2Vec(data, vector_size=100, window=8, min_count=2, epochs=5)"
   ]
  },
  {
   "cell_type": "code",
   "execution_count": 79,
   "id": "3ce1731d",
   "metadata": {},
   "outputs": [
    {
     "name": "stderr",
     "output_type": "stream",
     "text": [
      "2021-09-25 02:47:50,810 : WARNING : destructive init_sims(replace=True) deprecated & no longer required for space-efficiency\n",
      "2021-09-25 02:47:50,811 : INFO : storing 575x100 projection weights into zhivi.bin\n"
     ]
    },
    {
     "name": "stdout",
     "output_type": "stream",
     "text": [
      "Saving model...\n"
     ]
    }
   ],
   "source": [
    "model_zhivi.init_sims(replace=True)\n",
    "model_path = \"zhivi.bin\"\n",
    "\n",
    "print(\"Saving model...\")\n",
    "model_zhivi.wv.save_word2vec_format(model_path, binary=True)"
   ]
  },
  {
   "cell_type": "code",
   "execution_count": 80,
   "id": "281504a0",
   "metadata": {},
   "outputs": [
    {
     "data": {
      "text/plain": [
       "[('настена', 0.6089780926704407),\n",
       " ('к', 0.6007078289985657),\n",
       " ('у', 0.5860733985900879)]"
      ]
     },
     "execution_count": 80,
     "metadata": {},
     "output_type": "execute_result"
    }
   ],
   "source": [
    "model_zhivi.wv.most_similar(positive=[\"смерть\", \"страшный\"], negative=[\"живой\"], topn=3)"
   ]
  },
  {
   "cell_type": "code",
   "execution_count": 81,
   "id": "8e7c99b9",
   "metadata": {},
   "outputs": [
    {
     "data": {
      "text/plain": [
       "[('неожиданно', 0.3221656084060669),\n",
       " ('хвататься', 0.2666647732257843),\n",
       " ('снег', 0.26443248987197876)]"
      ]
     },
     "execution_count": 81,
     "metadata": {},
     "output_type": "execute_result"
    }
   ],
   "source": [
    "model_zhivi.wv.most_similar(\"живой\", topn=3)"
   ]
  },
  {
   "cell_type": "markdown",
   "id": "09274f21",
   "metadata": {},
   "source": [
    "These three words are far from the given word senmantically."
   ]
  },
  {
   "cell_type": "code",
   "execution_count": 82,
   "id": "a324c458",
   "metadata": {},
   "outputs": [
    {
     "data": {
      "text/plain": [
       "0.45341346"
      ]
     },
     "execution_count": 82,
     "metadata": {},
     "output_type": "execute_result"
    }
   ],
   "source": [
    "model_zhivi.wv.similarity(\"снег\", \"вода\")"
   ]
  },
  {
   "cell_type": "code",
   "execution_count": 83,
   "id": "1079b8ee",
   "metadata": {},
   "outputs": [
    {
     "name": "stderr",
     "output_type": "stream",
     "text": [
      "2021-09-25 02:51:37,377 : WARNING : vectors for words {'улыбка', 'скорбь', 'грусть'} are not present in the model, ignoring these words\n"
     ]
    },
    {
     "data": {
      "text/plain": [
       "'слеза'"
      ]
     },
     "execution_count": 83,
     "metadata": {},
     "output_type": "execute_result"
    }
   ],
   "source": [
    "model_zhivi.wv.doesnt_match(\"скорбь грусть слеза улыбка\".split())"
   ]
  },
  {
   "cell_type": "markdown",
   "id": "8ac61864",
   "metadata": {},
   "source": [
    "So it's better not to decrease the vector_size. But how about increasing it?"
   ]
  },
  {
   "cell_type": "code",
   "execution_count": 84,
   "id": "9138e803",
   "metadata": {},
   "outputs": [
    {
     "name": "stderr",
     "output_type": "stream",
     "text": [
      "2021-09-25 02:53:41,871 : INFO : collecting all words and their counts\n",
      "2021-09-25 02:53:41,874 : INFO : PROGRESS: at sentence #0, processed 0 words, keeping 0 word types\n",
      "2021-09-25 02:53:41,876 : INFO : collected 1688 word types from a corpus of 5343 raw words and 385 sentences\n",
      "2021-09-25 02:53:41,876 : INFO : Creating a fresh vocabulary\n",
      "2021-09-25 02:53:41,878 : INFO : Word2Vec lifecycle event {'msg': 'effective_min_count=2 retains 575 unique words (34.06398104265403%% of original 1688, drops 1113)', 'datetime': '2021-09-25T02:53:41.878903', 'gensim': '4.1.2', 'python': '3.9.7 (tags/v3.9.7:1016ef3, Aug 30 2021, 20:19:38) [MSC v.1929 64 bit (AMD64)]', 'platform': 'Windows-10-10.0.19043-SP0', 'event': 'prepare_vocab'}\n",
      "2021-09-25 02:53:41,879 : INFO : Word2Vec lifecycle event {'msg': 'effective_min_count=2 leaves 4230 word corpus (79.16900617630544%% of original 5343, drops 1113)', 'datetime': '2021-09-25T02:53:41.879901', 'gensim': '4.1.2', 'python': '3.9.7 (tags/v3.9.7:1016ef3, Aug 30 2021, 20:19:38) [MSC v.1929 64 bit (AMD64)]', 'platform': 'Windows-10-10.0.19043-SP0', 'event': 'prepare_vocab'}\n",
      "2021-09-25 02:53:41,882 : INFO : deleting the raw counts dictionary of 1688 items\n",
      "2021-09-25 02:53:41,883 : INFO : sample=0.001 downsamples 73 most-common words\n",
      "2021-09-25 02:53:41,883 : INFO : Word2Vec lifecycle event {'msg': 'downsampling leaves estimated 2888.134993852409 word corpus (68.3%% of prior 4230)', 'datetime': '2021-09-25T02:53:41.883890', 'gensim': '4.1.2', 'python': '3.9.7 (tags/v3.9.7:1016ef3, Aug 30 2021, 20:19:38) [MSC v.1929 64 bit (AMD64)]', 'platform': 'Windows-10-10.0.19043-SP0', 'event': 'prepare_vocab'}\n",
      "2021-09-25 02:53:41,888 : INFO : estimated required memory for 575 words and 400 dimensions: 2127500 bytes\n",
      "2021-09-25 02:53:41,889 : INFO : resetting layer weights\n",
      "2021-09-25 02:53:41,890 : INFO : Word2Vec lifecycle event {'update': False, 'trim_rule': 'None', 'datetime': '2021-09-25T02:53:41.890870', 'gensim': '4.1.2', 'python': '3.9.7 (tags/v3.9.7:1016ef3, Aug 30 2021, 20:19:38) [MSC v.1929 64 bit (AMD64)]', 'platform': 'Windows-10-10.0.19043-SP0', 'event': 'build_vocab'}\n",
      "2021-09-25 02:53:41,890 : INFO : Word2Vec lifecycle event {'msg': 'training model with 3 workers on 575 vocabulary and 400 features, using sg=0 hs=0 sample=0.001 negative=5 window=8 shrink_windows=True', 'datetime': '2021-09-25T02:53:41.890870', 'gensim': '4.1.2', 'python': '3.9.7 (tags/v3.9.7:1016ef3, Aug 30 2021, 20:19:38) [MSC v.1929 64 bit (AMD64)]', 'platform': 'Windows-10-10.0.19043-SP0', 'event': 'train'}\n",
      "2021-09-25 02:53:41,895 : INFO : worker thread finished; awaiting finish of 2 more threads\n",
      "2021-09-25 02:53:41,896 : INFO : worker thread finished; awaiting finish of 1 more threads\n",
      "2021-09-25 02:53:41,900 : INFO : worker thread finished; awaiting finish of 0 more threads\n",
      "2021-09-25 02:53:41,900 : INFO : EPOCH - 1 : training on 5343 raw words (2814 effective words) took 0.0s, 364149 effective words/s\n",
      "2021-09-25 02:53:41,904 : INFO : worker thread finished; awaiting finish of 2 more threads\n",
      "2021-09-25 02:53:41,904 : INFO : worker thread finished; awaiting finish of 1 more threads\n",
      "2021-09-25 02:53:41,909 : INFO : worker thread finished; awaiting finish of 0 more threads\n",
      "2021-09-25 02:53:41,910 : INFO : EPOCH - 2 : training on 5343 raw words (2918 effective words) took 0.0s, 351008 effective words/s\n",
      "2021-09-25 02:53:41,914 : INFO : worker thread finished; awaiting finish of 2 more threads\n",
      "2021-09-25 02:53:41,914 : INFO : worker thread finished; awaiting finish of 1 more threads\n",
      "2021-09-25 02:53:41,918 : INFO : worker thread finished; awaiting finish of 0 more threads\n",
      "2021-09-25 02:53:41,918 : INFO : EPOCH - 3 : training on 5343 raw words (2891 effective words) took 0.0s, 406690 effective words/s\n",
      "2021-09-25 02:53:41,922 : INFO : worker thread finished; awaiting finish of 2 more threads\n",
      "2021-09-25 02:53:41,923 : INFO : worker thread finished; awaiting finish of 1 more threads\n",
      "2021-09-25 02:53:41,926 : INFO : worker thread finished; awaiting finish of 0 more threads\n",
      "2021-09-25 02:53:41,927 : INFO : EPOCH - 4 : training on 5343 raw words (2894 effective words) took 0.0s, 411243 effective words/s\n",
      "2021-09-25 02:53:41,931 : INFO : worker thread finished; awaiting finish of 2 more threads\n",
      "2021-09-25 02:53:41,931 : INFO : worker thread finished; awaiting finish of 1 more threads\n",
      "2021-09-25 02:53:41,935 : INFO : worker thread finished; awaiting finish of 0 more threads\n",
      "2021-09-25 02:53:41,936 : INFO : EPOCH - 5 : training on 5343 raw words (2885 effective words) took 0.0s, 367835 effective words/s\n",
      "2021-09-25 02:53:41,936 : INFO : Word2Vec lifecycle event {'msg': 'training on 26715 raw words (14402 effective words) took 0.0s, 318448 effective words/s', 'datetime': '2021-09-25T02:53:41.936748', 'gensim': '4.1.2', 'python': '3.9.7 (tags/v3.9.7:1016ef3, Aug 30 2021, 20:19:38) [MSC v.1929 64 bit (AMD64)]', 'platform': 'Windows-10-10.0.19043-SP0', 'event': 'train'}\n",
      "2021-09-25 02:53:41,937 : INFO : Word2Vec lifecycle event {'params': 'Word2Vec(vocab=575, vector_size=400, alpha=0.025)', 'datetime': '2021-09-25T02:53:41.937745', 'gensim': '4.1.2', 'python': '3.9.7 (tags/v3.9.7:1016ef3, Aug 30 2021, 20:19:38) [MSC v.1929 64 bit (AMD64)]', 'platform': 'Windows-10-10.0.19043-SP0', 'event': 'created'}\n"
     ]
    },
    {
     "name": "stdout",
     "output_type": "stream",
     "text": [
      "Wall time: 65.8 ms\n"
     ]
    }
   ],
   "source": [
    "%time model_zhivi = gensim.models.Word2Vec(data, vector_size=400, window=8, min_count=2, epochs=5)"
   ]
  },
  {
   "cell_type": "code",
   "execution_count": 85,
   "id": "eef6fff6",
   "metadata": {},
   "outputs": [
    {
     "name": "stderr",
     "output_type": "stream",
     "text": [
      "2021-09-25 02:53:56,187 : WARNING : destructive init_sims(replace=True) deprecated & no longer required for space-efficiency\n",
      "2021-09-25 02:53:56,188 : INFO : storing 575x400 projection weights into zhivi.bin\n"
     ]
    },
    {
     "name": "stdout",
     "output_type": "stream",
     "text": [
      "Saving model...\n"
     ]
    }
   ],
   "source": [
    "model_zhivi.init_sims(replace=True)\n",
    "model_path = \"zhivi.bin\"\n",
    "\n",
    "print(\"Saving model...\")\n",
    "model_zhivi.wv.save_word2vec_format(model_path, binary=True)"
   ]
  },
  {
   "cell_type": "code",
   "execution_count": 86,
   "id": "e8ff2f67",
   "metadata": {},
   "outputs": [
    {
     "data": {
      "text/plain": [
       "[('в', 0.4766565263271332),\n",
       " ('же', 0.4714948534965515),\n",
       " ('мочь', 0.47109144926071167)]"
      ]
     },
     "execution_count": 86,
     "metadata": {},
     "output_type": "execute_result"
    }
   ],
   "source": [
    "model_zhivi.wv.most_similar(positive=[\"смерть\", \"страшный\"], negative=[\"живой\"], topn=3)"
   ]
  },
  {
   "cell_type": "code",
   "execution_count": 87,
   "id": "09eb8545",
   "metadata": {},
   "outputs": [
    {
     "data": {
      "text/plain": [
       "[('вода', 0.24776023626327515),\n",
       " ('год', 0.23349589109420776),\n",
       " ('жить', 0.23108722269535065)]"
      ]
     },
     "execution_count": 87,
     "metadata": {},
     "output_type": "execute_result"
    }
   ],
   "source": [
    "model_zhivi.wv.most_similar(\"живой\", topn=3)"
   ]
  },
  {
   "cell_type": "markdown",
   "id": "1f0f09bf",
   "metadata": {},
   "source": [
    "It seems that the three words are semantically close to the given word."
   ]
  },
  {
   "cell_type": "code",
   "execution_count": 88,
   "id": "caabad76",
   "metadata": {},
   "outputs": [
    {
     "data": {
      "text/plain": [
       "0.41135502"
      ]
     },
     "execution_count": 88,
     "metadata": {},
     "output_type": "execute_result"
    }
   ],
   "source": [
    "model_zhivi.wv.similarity(\"снег\", \"вода\")"
   ]
  },
  {
   "cell_type": "code",
   "execution_count": 89,
   "id": "1d5cb247",
   "metadata": {},
   "outputs": [
    {
     "name": "stderr",
     "output_type": "stream",
     "text": [
      "2021-09-25 02:56:16,521 : WARNING : vectors for words {'улыбка', 'скорбь', 'грусть'} are not present in the model, ignoring these words\n"
     ]
    },
    {
     "data": {
      "text/plain": [
       "'слеза'"
      ]
     },
     "execution_count": 89,
     "metadata": {},
     "output_type": "execute_result"
    }
   ],
   "source": [
    "model_zhivi.wv.doesnt_match(\"скорбь грусть слеза улыбка\".split())"
   ]
  },
  {
   "cell_type": "markdown",
   "id": "20863a20",
   "metadata": {},
   "source": [
    "So we can choose 400 as the value of vector_size.\n",
    "We can decrease the epoch to see the changes."
   ]
  },
  {
   "cell_type": "code",
   "execution_count": 116,
   "id": "9c92ac0c",
   "metadata": {},
   "outputs": [
    {
     "name": "stderr",
     "output_type": "stream",
     "text": [
      "2021-09-25 03:24:22,912 : INFO : collecting all words and their counts\n",
      "2021-09-25 03:24:22,914 : INFO : PROGRESS: at sentence #0, processed 0 words, keeping 0 word types\n",
      "2021-09-25 03:24:22,917 : INFO : collected 1688 word types from a corpus of 5343 raw words and 385 sentences\n",
      "2021-09-25 03:24:22,918 : INFO : Creating a fresh vocabulary\n",
      "2021-09-25 03:24:22,920 : INFO : Word2Vec lifecycle event {'msg': 'effective_min_count=2 retains 575 unique words (34.06398104265403%% of original 1688, drops 1113)', 'datetime': '2021-09-25T03:24:22.920012', 'gensim': '4.1.2', 'python': '3.9.7 (tags/v3.9.7:1016ef3, Aug 30 2021, 20:19:38) [MSC v.1929 64 bit (AMD64)]', 'platform': 'Windows-10-10.0.19043-SP0', 'event': 'prepare_vocab'}\n",
      "2021-09-25 03:24:22,920 : INFO : Word2Vec lifecycle event {'msg': 'effective_min_count=2 leaves 4230 word corpus (79.16900617630544%% of original 5343, drops 1113)', 'datetime': '2021-09-25T03:24:22.920012', 'gensim': '4.1.2', 'python': '3.9.7 (tags/v3.9.7:1016ef3, Aug 30 2021, 20:19:38) [MSC v.1929 64 bit (AMD64)]', 'platform': 'Windows-10-10.0.19043-SP0', 'event': 'prepare_vocab'}\n",
      "2021-09-25 03:24:22,923 : INFO : deleting the raw counts dictionary of 1688 items\n",
      "2021-09-25 03:24:22,924 : INFO : sample=0.001 downsamples 73 most-common words\n",
      "2021-09-25 03:24:22,924 : INFO : Word2Vec lifecycle event {'msg': 'downsampling leaves estimated 2888.134993852409 word corpus (68.3%% of prior 4230)', 'datetime': '2021-09-25T03:24:22.924001', 'gensim': '4.1.2', 'python': '3.9.7 (tags/v3.9.7:1016ef3, Aug 30 2021, 20:19:38) [MSC v.1929 64 bit (AMD64)]', 'platform': 'Windows-10-10.0.19043-SP0', 'event': 'prepare_vocab'}\n",
      "2021-09-25 03:24:22,928 : INFO : estimated required memory for 575 words and 400 dimensions: 2127500 bytes\n",
      "2021-09-25 03:24:22,928 : INFO : resetting layer weights\n",
      "2021-09-25 03:24:22,930 : INFO : Word2Vec lifecycle event {'update': False, 'trim_rule': 'None', 'datetime': '2021-09-25T03:24:22.930983', 'gensim': '4.1.2', 'python': '3.9.7 (tags/v3.9.7:1016ef3, Aug 30 2021, 20:19:38) [MSC v.1929 64 bit (AMD64)]', 'platform': 'Windows-10-10.0.19043-SP0', 'event': 'build_vocab'}\n",
      "2021-09-25 03:24:22,930 : INFO : Word2Vec lifecycle event {'msg': 'training model with 3 workers on 575 vocabulary and 400 features, using sg=0 hs=0 sample=0.001 negative=5 window=8 shrink_windows=True', 'datetime': '2021-09-25T03:24:22.930983', 'gensim': '4.1.2', 'python': '3.9.7 (tags/v3.9.7:1016ef3, Aug 30 2021, 20:19:38) [MSC v.1929 64 bit (AMD64)]', 'platform': 'Windows-10-10.0.19043-SP0', 'event': 'train'}\n",
      "2021-09-25 03:24:22,934 : INFO : worker thread finished; awaiting finish of 2 more threads\n",
      "2021-09-25 03:24:22,935 : INFO : worker thread finished; awaiting finish of 1 more threads\n",
      "2021-09-25 03:24:22,939 : INFO : worker thread finished; awaiting finish of 0 more threads\n",
      "2021-09-25 03:24:22,940 : INFO : EPOCH - 1 : training on 5343 raw words (2814 effective words) took 0.0s, 364022 effective words/s\n",
      "2021-09-25 03:24:22,940 : INFO : Word2Vec lifecycle event {'msg': 'training on 5343 raw words (2814 effective words) took 0.0s, 307242 effective words/s', 'datetime': '2021-09-25T03:24:22.940957', 'gensim': '4.1.2', 'python': '3.9.7 (tags/v3.9.7:1016ef3, Aug 30 2021, 20:19:38) [MSC v.1929 64 bit (AMD64)]', 'platform': 'Windows-10-10.0.19043-SP0', 'event': 'train'}\n",
      "2021-09-25 03:24:22,940 : INFO : Word2Vec lifecycle event {'params': 'Word2Vec(vocab=575, vector_size=400, alpha=0.025)', 'datetime': '2021-09-25T03:24:22.940957', 'gensim': '4.1.2', 'python': '3.9.7 (tags/v3.9.7:1016ef3, Aug 30 2021, 20:19:38) [MSC v.1929 64 bit (AMD64)]', 'platform': 'Windows-10-10.0.19043-SP0', 'event': 'created'}\n"
     ]
    },
    {
     "name": "stdout",
     "output_type": "stream",
     "text": [
      "Wall time: 29.9 ms\n"
     ]
    }
   ],
   "source": [
    "%time model_zhivi = gensim.models.Word2Vec(data, vector_size=400, window=8, min_count=2, epochs=1)"
   ]
  },
  {
   "cell_type": "code",
   "execution_count": 117,
   "id": "aecb18d0",
   "metadata": {},
   "outputs": [
    {
     "name": "stderr",
     "output_type": "stream",
     "text": [
      "2021-09-25 03:24:35,169 : WARNING : destructive init_sims(replace=True) deprecated & no longer required for space-efficiency\n",
      "2021-09-25 03:24:35,170 : INFO : storing 575x400 projection weights into zhivi.bin\n"
     ]
    },
    {
     "name": "stdout",
     "output_type": "stream",
     "text": [
      "Saving model...\n"
     ]
    }
   ],
   "source": [
    "model_zhivi.init_sims(replace=True)\n",
    "model_path = \"zhivi.bin\"\n",
    "\n",
    "print(\"Saving model...\")\n",
    "model_zhivi.wv.save_word2vec_format(model_path, binary=True)"
   ]
  },
  {
   "cell_type": "code",
   "execution_count": 118,
   "id": "14a61c26",
   "metadata": {},
   "outputs": [
    {
     "data": {
      "text/plain": [
       "[('половина', 0.14263422787189484),\n",
       " ('ребятишки', 0.12214766442775726),\n",
       " ('свекровь', 0.12069561332464218)]"
      ]
     },
     "execution_count": 118,
     "metadata": {},
     "output_type": "execute_result"
    }
   ],
   "source": [
    "model_zhivi.wv.most_similar(positive=[\"смерть\", \"страшный\"], negative=[\"живой\"], topn=3)"
   ]
  },
  {
   "cell_type": "code",
   "execution_count": 119,
   "id": "44523ae0",
   "metadata": {},
   "outputs": [
    {
     "data": {
      "text/plain": [
       "[('маленький', 0.13749364018440247),\n",
       " ('вода', 0.13242684304714203),\n",
       " ('местный', 0.13177846372127533)]"
      ]
     },
     "execution_count": 119,
     "metadata": {},
     "output_type": "execute_result"
    }
   ],
   "source": [
    "model_zhivi.wv.most_similar(\"живой\", topn=3)"
   ]
  },
  {
   "cell_type": "code",
   "execution_count": 120,
   "id": "057c60f0",
   "metadata": {},
   "outputs": [
    {
     "data": {
      "text/plain": [
       "0.02252883"
      ]
     },
     "execution_count": 120,
     "metadata": {},
     "output_type": "execute_result"
    }
   ],
   "source": [
    "model_zhivi.wv.similarity(\"снег\", \"вода\")"
   ]
  },
  {
   "cell_type": "markdown",
   "id": "49fe4e83",
   "metadata": {},
   "source": [
    "The similarity decreased to a very small value, it means we can't choose 1 as tthe value of epoch.But how about increasing it?"
   ]
  },
  {
   "cell_type": "code",
   "execution_count": 138,
   "id": "cbc6cef3",
   "metadata": {},
   "outputs": [
    {
     "name": "stderr",
     "output_type": "stream",
     "text": [
      "2021-09-25 04:03:15,280 : INFO : collecting all words and their counts\n",
      "2021-09-25 04:03:15,281 : INFO : PROGRESS: at sentence #0, processed 0 words, keeping 0 word types\n",
      "2021-09-25 04:03:15,284 : INFO : collected 1688 word types from a corpus of 5343 raw words and 385 sentences\n",
      "2021-09-25 04:03:15,285 : INFO : Creating a fresh vocabulary\n",
      "2021-09-25 04:03:15,287 : INFO : Word2Vec lifecycle event {'msg': 'effective_min_count=2 retains 575 unique words (34.06398104265403%% of original 1688, drops 1113)', 'datetime': '2021-09-25T04:03:15.287703', 'gensim': '4.1.2', 'python': '3.9.7 (tags/v3.9.7:1016ef3, Aug 30 2021, 20:19:38) [MSC v.1929 64 bit (AMD64)]', 'platform': 'Windows-10-10.0.19043-SP0', 'event': 'prepare_vocab'}\n",
      "2021-09-25 04:03:15,287 : INFO : Word2Vec lifecycle event {'msg': 'effective_min_count=2 leaves 4230 word corpus (79.16900617630544%% of original 5343, drops 1113)', 'datetime': '2021-09-25T04:03:15.287703', 'gensim': '4.1.2', 'python': '3.9.7 (tags/v3.9.7:1016ef3, Aug 30 2021, 20:19:38) [MSC v.1929 64 bit (AMD64)]', 'platform': 'Windows-10-10.0.19043-SP0', 'event': 'prepare_vocab'}\n",
      "2021-09-25 04:03:15,290 : INFO : deleting the raw counts dictionary of 1688 items\n",
      "2021-09-25 04:03:15,290 : INFO : sample=0.001 downsamples 73 most-common words\n",
      "2021-09-25 04:03:15,291 : INFO : Word2Vec lifecycle event {'msg': 'downsampling leaves estimated 2888.134993852409 word corpus (68.3%% of prior 4230)', 'datetime': '2021-09-25T04:03:15.291690', 'gensim': '4.1.2', 'python': '3.9.7 (tags/v3.9.7:1016ef3, Aug 30 2021, 20:19:38) [MSC v.1929 64 bit (AMD64)]', 'platform': 'Windows-10-10.0.19043-SP0', 'event': 'prepare_vocab'}\n",
      "2021-09-25 04:03:15,295 : INFO : estimated required memory for 575 words and 400 dimensions: 2127500 bytes\n",
      "2021-09-25 04:03:15,296 : INFO : resetting layer weights\n",
      "2021-09-25 04:03:15,297 : INFO : Word2Vec lifecycle event {'update': False, 'trim_rule': 'None', 'datetime': '2021-09-25T04:03:15.297674', 'gensim': '4.1.2', 'python': '3.9.7 (tags/v3.9.7:1016ef3, Aug 30 2021, 20:19:38) [MSC v.1929 64 bit (AMD64)]', 'platform': 'Windows-10-10.0.19043-SP0', 'event': 'build_vocab'}\n",
      "2021-09-25 04:03:15,298 : INFO : Word2Vec lifecycle event {'msg': 'training model with 3 workers on 575 vocabulary and 400 features, using sg=0 hs=0 sample=0.001 negative=5 window=8 shrink_windows=True', 'datetime': '2021-09-25T04:03:15.298672', 'gensim': '4.1.2', 'python': '3.9.7 (tags/v3.9.7:1016ef3, Aug 30 2021, 20:19:38) [MSC v.1929 64 bit (AMD64)]', 'platform': 'Windows-10-10.0.19043-SP0', 'event': 'train'}\n",
      "2021-09-25 04:03:15,302 : INFO : worker thread finished; awaiting finish of 2 more threads\n",
      "2021-09-25 04:03:15,302 : INFO : worker thread finished; awaiting finish of 1 more threads\n",
      "2021-09-25 04:03:15,306 : INFO : worker thread finished; awaiting finish of 0 more threads\n",
      "2021-09-25 04:03:15,306 : INFO : EPOCH - 1 : training on 5343 raw words (2814 effective words) took 0.0s, 385253 effective words/s\n",
      "2021-09-25 04:03:15,311 : INFO : worker thread finished; awaiting finish of 2 more threads\n",
      "2021-09-25 04:03:15,311 : INFO : worker thread finished; awaiting finish of 1 more threads\n",
      "2021-09-25 04:03:15,315 : INFO : worker thread finished; awaiting finish of 0 more threads\n",
      "2021-09-25 04:03:15,316 : INFO : EPOCH - 2 : training on 5343 raw words (2918 effective words) took 0.0s, 363591 effective words/s\n",
      "2021-09-25 04:03:15,320 : INFO : worker thread finished; awaiting finish of 2 more threads\n",
      "2021-09-25 04:03:15,321 : INFO : worker thread finished; awaiting finish of 1 more threads\n",
      "2021-09-25 04:03:15,325 : INFO : worker thread finished; awaiting finish of 0 more threads\n",
      "2021-09-25 04:03:15,325 : INFO : EPOCH - 3 : training on 5343 raw words (2891 effective words) took 0.0s, 397427 effective words/s\n",
      "2021-09-25 04:03:15,329 : INFO : worker thread finished; awaiting finish of 2 more threads\n",
      "2021-09-25 04:03:15,330 : INFO : worker thread finished; awaiting finish of 1 more threads\n",
      "2021-09-25 04:03:15,334 : INFO : worker thread finished; awaiting finish of 0 more threads\n",
      "2021-09-25 04:03:15,334 : INFO : EPOCH - 4 : training on 5343 raw words (2894 effective words) took 0.0s, 388180 effective words/s\n",
      "2021-09-25 04:03:15,338 : INFO : worker thread finished; awaiting finish of 2 more threads\n",
      "2021-09-25 04:03:15,339 : INFO : worker thread finished; awaiting finish of 1 more threads\n",
      "2021-09-25 04:03:15,342 : INFO : worker thread finished; awaiting finish of 0 more threads\n",
      "2021-09-25 04:03:15,343 : INFO : EPOCH - 5 : training on 5343 raw words (2885 effective words) took 0.0s, 396558 effective words/s\n",
      "2021-09-25 04:03:15,347 : INFO : worker thread finished; awaiting finish of 2 more threads\n",
      "2021-09-25 04:03:15,347 : INFO : worker thread finished; awaiting finish of 1 more threads\n",
      "2021-09-25 04:03:15,352 : INFO : worker thread finished; awaiting finish of 0 more threads\n",
      "2021-09-25 04:03:15,353 : INFO : EPOCH - 6 : training on 5343 raw words (2841 effective words) took 0.0s, 337187 effective words/s\n",
      "2021-09-25 04:03:15,357 : INFO : worker thread finished; awaiting finish of 2 more threads\n",
      "2021-09-25 04:03:15,358 : INFO : worker thread finished; awaiting finish of 1 more threads\n",
      "2021-09-25 04:03:15,361 : INFO : worker thread finished; awaiting finish of 0 more threads\n",
      "2021-09-25 04:03:15,362 : INFO : EPOCH - 7 : training on 5343 raw words (2874 effective words) took 0.0s, 384112 effective words/s\n",
      "2021-09-25 04:03:15,366 : INFO : worker thread finished; awaiting finish of 2 more threads\n",
      "2021-09-25 04:03:15,367 : INFO : worker thread finished; awaiting finish of 1 more threads\n",
      "2021-09-25 04:03:15,371 : INFO : worker thread finished; awaiting finish of 0 more threads\n",
      "2021-09-25 04:03:15,371 : INFO : EPOCH - 8 : training on 5343 raw words (2898 effective words) took 0.0s, 355230 effective words/s\n",
      "2021-09-25 04:03:15,376 : INFO : worker thread finished; awaiting finish of 2 more threads\n",
      "2021-09-25 04:03:15,376 : INFO : worker thread finished; awaiting finish of 1 more threads\n",
      "2021-09-25 04:03:15,382 : INFO : worker thread finished; awaiting finish of 0 more threads\n",
      "2021-09-25 04:03:15,382 : INFO : EPOCH - 9 : training on 5343 raw words (2879 effective words) took 0.0s, 313200 effective words/s\n",
      "2021-09-25 04:03:15,389 : INFO : worker thread finished; awaiting finish of 2 more threads\n",
      "2021-09-25 04:03:15,389 : INFO : worker thread finished; awaiting finish of 1 more threads\n",
      "2021-09-25 04:03:15,393 : INFO : worker thread finished; awaiting finish of 0 more threads\n",
      "2021-09-25 04:03:15,394 : INFO : EPOCH - 10 : training on 5343 raw words (2863 effective words) took 0.0s, 352027 effective words/s\n",
      "2021-09-25 04:03:15,394 : INFO : Word2Vec lifecycle event {'msg': 'training on 53430 raw words (28757 effective words) took 0.1s, 298652 effective words/s', 'datetime': '2021-09-25T04:03:15.394422', 'gensim': '4.1.2', 'python': '3.9.7 (tags/v3.9.7:1016ef3, Aug 30 2021, 20:19:38) [MSC v.1929 64 bit (AMD64)]', 'platform': 'Windows-10-10.0.19043-SP0', 'event': 'train'}\n",
      "2021-09-25 04:03:15,395 : INFO : Word2Vec lifecycle event {'params': 'Word2Vec(vocab=575, vector_size=400, alpha=0.025)', 'datetime': '2021-09-25T04:03:15.395413', 'gensim': '4.1.2', 'python': '3.9.7 (tags/v3.9.7:1016ef3, Aug 30 2021, 20:19:38) [MSC v.1929 64 bit (AMD64)]', 'platform': 'Windows-10-10.0.19043-SP0', 'event': 'created'}\n"
     ]
    },
    {
     "name": "stdout",
     "output_type": "stream",
     "text": [
      "Wall time: 116 ms\n"
     ]
    }
   ],
   "source": [
    "%time model_zhivi = gensim.models.Word2Vec(data, vector_size=400, window=8, min_count=2, epochs=10)"
   ]
  },
  {
   "cell_type": "code",
   "execution_count": 122,
   "id": "09c5443f",
   "metadata": {},
   "outputs": [
    {
     "name": "stderr",
     "output_type": "stream",
     "text": [
      "2021-09-25 03:30:35,992 : WARNING : destructive init_sims(replace=True) deprecated & no longer required for space-efficiency\n",
      "2021-09-25 03:30:35,993 : INFO : storing 575x400 projection weights into zhivi.bin\n"
     ]
    },
    {
     "name": "stdout",
     "output_type": "stream",
     "text": [
      "Saving model...\n"
     ]
    }
   ],
   "source": [
    "model_zhivi.init_sims(replace=True)\n",
    "model_path = \"zhivi.bin\"\n",
    "\n",
    "print(\"Saving model...\")\n",
    "model_zhivi.wv.save_word2vec_format(model_path, binary=True)"
   ]
  },
  {
   "cell_type": "code",
   "execution_count": 123,
   "id": "b0df6bd8",
   "metadata": {},
   "outputs": [
    {
     "data": {
      "text/plain": [
       "[('жизнь', 0.9599876999855042),\n",
       " ('страх', 0.9598274827003479),\n",
       " ('половина', 0.9597858786582947)]"
      ]
     },
     "execution_count": 123,
     "metadata": {},
     "output_type": "execute_result"
    }
   ],
   "source": [
    "model_zhivi.wv.most_similar(positive=[\"смерть\", \"страшный\"], negative=[\"живой\"], topn=3)"
   ]
  },
  {
   "cell_type": "code",
   "execution_count": 124,
   "id": "d1f2a9d8",
   "metadata": {},
   "outputs": [
    {
     "data": {
      "text/plain": [
       "[('вода', 0.9625073671340942),\n",
       " ('жить', 0.9622183442115784),\n",
       " ('год', 0.962167501449585)]"
      ]
     },
     "execution_count": 124,
     "metadata": {},
     "output_type": "execute_result"
    }
   ],
   "source": [
    "model_zhivi.wv.most_similar(\"живой\", topn=3)"
   ]
  },
  {
   "cell_type": "code",
   "execution_count": 125,
   "id": "bc804120",
   "metadata": {},
   "outputs": [
    {
     "data": {
      "text/plain": [
       "0.9961269"
      ]
     },
     "execution_count": 125,
     "metadata": {},
     "output_type": "execute_result"
    }
   ],
   "source": [
    "model_zhivi.wv.similarity(\"снег\", \"вода\")"
   ]
  },
  {
   "cell_type": "code",
   "execution_count": 126,
   "id": "2a1496c6",
   "metadata": {},
   "outputs": [
    {
     "name": "stderr",
     "output_type": "stream",
     "text": [
      "2021-09-25 03:32:35,863 : WARNING : vectors for words {'улыбка', 'скорбь', 'грусть'} are not present in the model, ignoring these words\n"
     ]
    },
    {
     "data": {
      "text/plain": [
       "'слеза'"
      ]
     },
     "execution_count": 126,
     "metadata": {},
     "output_type": "execute_result"
    }
   ],
   "source": [
    "model_zhivi.wv.doesnt_match(\"скорбь грусть слеза улыбка\".split())"
   ]
  },
  {
   "cell_type": "markdown",
   "id": "f397bbfa",
   "metadata": {},
   "source": [
    "Ok. I found the suitable parameters of the settings."
   ]
  },
  {
   "cell_type": "code",
   "execution_count": 128,
   "id": "b6d8a5d9",
   "metadata": {},
   "outputs": [
    {
     "name": "stdout",
     "output_type": "stream",
     "text": [
      "Collecting sklearn\n",
      "  Downloading sklearn-0.0.tar.gz (1.1 kB)\n",
      "Collecting scikit-learn\n",
      "  Downloading scikit_learn-1.0-cp39-cp39-win_amd64.whl (7.2 MB)\n",
      "Collecting threadpoolctl>=2.0.0\n",
      "  Downloading threadpoolctl-2.2.0-py3-none-any.whl (12 kB)\n",
      "Requirement already satisfied: joblib>=0.11 in c:\\users\\wanshu\\appdata\\local\\packages\\pythonsoftwarefoundation.python.3.9_qbz5n2kfra8p0\\localcache\\local-packages\\python39\\site-packages (from scikit-learn->sklearn) (1.0.1)\n",
      "Requirement already satisfied: numpy>=1.14.6 in c:\\users\\wanshu\\appdata\\local\\packages\\pythonsoftwarefoundation.python.3.9_qbz5n2kfra8p0\\localcache\\local-packages\\python39\\site-packages (from scikit-learn->sklearn) (1.21.2+mkl)\n",
      "Requirement already satisfied: scipy>=1.1.0 in c:\\users\\wanshu\\appdata\\local\\packages\\pythonsoftwarefoundation.python.3.9_qbz5n2kfra8p0\\localcache\\local-packages\\python39\\site-packages (from scikit-learn->sklearn) (1.7.1)\n",
      "Building wheels for collected packages: sklearn\n",
      "  Building wheel for sklearn (setup.py): started\n",
      "  Building wheel for sklearn (setup.py): finished with status 'done'\n",
      "  Created wheel for sklearn: filename=sklearn-0.0-py2.py3-none-any.whl size=1309 sha256=73122deb1c63c33da625c50fb2a223ae5b1777256793e6e54559665e537917a7\n",
      "  Stored in directory: c:\\users\\wanshu\\appdata\\local\\packages\\pythonsoftwarefoundation.python.3.9_qbz5n2kfra8p0\\localcache\\local\\pip\\cache\\wheels\\e4\\7b\\98\\b6466d71b8d738a0c547008b9eb39bf8676d1ff6ca4b22af1c\n",
      "Successfully built sklearn\n",
      "Installing collected packages: threadpoolctl, scikit-learn, sklearn\n",
      "Successfully installed scikit-learn-1.0 sklearn-0.0 threadpoolctl-2.2.0\n"
     ]
    }
   ],
   "source": [
    "!pip install sklearn"
   ]
  },
  {
   "cell_type": "code",
   "execution_count": 139,
   "id": "76f73050",
   "metadata": {},
   "outputs": [],
   "source": [
    "from sklearn.decomposition import PCA\n",
    "import matplotlib.pyplot as plt\n",
    "%matplotlib inline"
   ]
  },
  {
   "cell_type": "code",
   "execution_count": 149,
   "id": "c1de5dbe",
   "metadata": {},
   "outputs": [],
   "source": [
    "words = ['жить', 'смерть', 'понятно','ясный', 'страшный', 'маленький', 'большой']\n",
    "X = model_zhivi.wv[words]"
   ]
  },
  {
   "cell_type": "code",
   "execution_count": 150,
   "id": "b57688d7",
   "metadata": {},
   "outputs": [],
   "source": [
    "pca = PCA(n_components=2)\n",
    "coords = pca.fit_transform(X)"
   ]
  },
  {
   "cell_type": "code",
   "execution_count": 151,
   "id": "4ca39bd6",
   "metadata": {},
   "outputs": [
    {
     "data": {
      "image/png": "[encoded data removed]",
      "text/plain": [
       "<Figure size 432x288 with 1 Axes>"
      ]
     },
     "metadata": {
      "needs_background": "light"
     },
     "output_type": "display_data"
    }
   ],
   "source": [
    "plt.scatter(coords[:, 0], coords[:, 1], color='red')\n",
    "plt.title('Words')\n",
    "\n",
    "for i, word in enumerate(words):\n",
    "    plt.annotate(word, xy=(coords[i, 0], coords[i, 1]))\n",
    "plt.show()"
   ]
  },
  {
   "cell_type": "markdown",
   "id": "ff448cb0",
   "metadata": {},
   "source": [
    "From the plot we can see the 'маленький', 'большой' are closter together."
   ]
  },
  {
   "cell_type": "code",
   "execution_count": 165,
   "id": "f2848ee1",
   "metadata": {},
   "outputs": [],
   "source": [
    "pca = PCA(n_components=2)\n",
    "pca.fit(model_zhivi.wv[list(model_zhivi.wv.key_to_index)])\n",
    "coords = pca.transform(model_zhivi.wv[words])"
   ]
  },
  {
   "cell_type": "code",
   "execution_count": 166,
   "id": "927b1397",
   "metadata": {},
   "outputs": [
    {
     "data": {
      "image/png": "[encoded data removed]",
      "text/plain": [
       "<Figure size 432x288 with 1 Axes>"
      ]
     },
     "metadata": {
      "needs_background": "light"
     },
     "output_type": "display_data"
    }
   ],
   "source": [
    "plt.scatter(coords[:, 0], coords[:, 1], color='red')\n",
    "plt.title('Words')\n",
    "\n",
    "for i, word in enumerate(words):\n",
    "    plt.annotate(word, xy=(coords[i, 0], coords[i, 1]))\n",
    "plt.show()"
   ]
  },
  {
   "cell_type": "markdown",
   "id": "645f62a7",
   "metadata": {},
   "source": [
    "Now all of the words are not close to each other."
   ]
  }
 ],
 "metadata": {
  "kernelspec": {
   "display_name": "Python 3 (ipykernel)",
   "language": "python",
   "name": "python3"
  },
  "language_info": {
   "codemirror_mode": {
    "name": "ipython",
    "version": 3
   },
   "file_extension": ".py",
   "mimetype": "text/x-python",
   "name": "python",
   "nbconvert_exporter": "python",
   "pygments_lexer": "ipython3",
   "version": "3.9.7"
  }
 },
 "nbformat": 4,
 "nbformat_minor": 5
}
